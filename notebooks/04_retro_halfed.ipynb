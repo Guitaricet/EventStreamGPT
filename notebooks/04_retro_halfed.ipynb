{
 "cells": [
  {
   "cell_type": "code",
   "execution_count": 1,
   "metadata": {},
   "outputs": [
    {
     "name": "stderr",
     "output_type": "stream",
     "text": [
      "/mnt/shared_home/vlialin/miniconda3/envs/clinicallm/lib/python3.10/site-packages/tqdm/auto.py:21: TqdmWarning: IProgress not found. Please update jupyter and ipywidgets. See https://ipywidgets.readthedocs.io/en/stable/user_install.html\n",
      "  from .autonotebook import tqdm as notebook_tqdm\n"
     ]
    }
   ],
   "source": [
    "import torch\n",
    "\n",
    "from EventStream.transformer import CondIndepModelForGenerativeSequenceModeling\n",
    "from EventStream.transformer.config import StructuredTransformerConfig, StructuredEventProcessingMode\n",
    "from EventStream.data.types import DataModality, PytorchBatch, TemporalityType\n",
    "from EventStream.data.config import MeasurementConfig\n",
    "\n",
    "%load_ext autoreload\n",
    "%autoreload 2"
   ]
  },
  {
   "cell_type": "code",
   "execution_count": 2,
   "metadata": {},
   "outputs": [],
   "source": [
    "TEST_DATA_TYPES_PER_GEN_MODE = {\n",
    "    \"single_label_classification\": [\"event_type\"],\n",
    "    \"multi_label_classification\": [\"multi_label_col\", \"regression_col\"],\n",
    "    \"multivariate_regression\": [\"regression_col\"],\n",
    "}\n",
    "TEST_DATA_TYPES_IDXMAP = {\n",
    "    \"event_type\": 1,\n",
    "    \"multi_label_col\": 2,\n",
    "    \"regression_col\": 3,\n",
    "}\n",
    "TEST_VOCAB_SIZES_BY_DATA_TYPE = {\n",
    "    \"event_type\": 2,\n",
    "    \"multi_label_col\": 3,\n",
    "    \"regression_col\": 4,\n",
    "}\n",
    "TEST_VOCAB_OFFSETS_BY_DATA_TYPE = {\n",
    "    \"event_type\": 1,\n",
    "    \"multi_label_col\": 3,\n",
    "    \"regression_col\": 6,\n",
    "}\n",
    "TEST_MEASUREMENTS_PER_DEP_GRAPH_LEVEL = [[], [\"event_type\"], [\"multi_label_col\", \"regression_col\"]]\n",
    "\n",
    "\n",
    "default_config_kwargs = dict(\n",
    "    dep_graph_attention_types=None,\n",
    "    dep_graph_window_size=None,\n",
    "    do_full_block_in_dep_graph_attention=None,\n",
    "    do_full_block_in_seq_attention=None,\n",
    "    measurements_per_generative_mode=TEST_DATA_TYPES_PER_GEN_MODE,\n",
    "    vocab_sizes_by_measurement=TEST_VOCAB_SIZES_BY_DATA_TYPE,\n",
    "    vocab_offsets_by_measurement=TEST_VOCAB_OFFSETS_BY_DATA_TYPE,\n",
    "    measurements_idxmap=TEST_DATA_TYPES_IDXMAP,\n",
    "    vocab_size=10,\n",
    "    hidden_size=4,\n",
    "    num_hidden_layers=5,\n",
    "    head_dim=None,\n",
    "    num_attention_heads=2,  # Needs to divide hidden_size.\n",
    "    mean_log_inter_time=0,\n",
    "    std_log_inter_time=1,\n",
    "    use_cache=False,\n",
    "    measurements_per_dep_graph_level=None,\n",
    "    measurement_configs={\n",
    "        \"multi_label_col\": MeasurementConfig(\n",
    "            modality=DataModality.MULTI_LABEL_CLASSIFICATION,\n",
    "            temporality=TemporalityType.DYNAMIC,\n",
    "        ),\n",
    "        \"regression_col\": MeasurementConfig(\n",
    "            modality=DataModality.MULTIVARIATE_REGRESSION,\n",
    "            temporality=TemporalityType.DYNAMIC,\n",
    "            values_column=\"regression_val\",\n",
    "        ),\n",
    "    },\n",
    ")"
   ]
  },
  {
   "cell_type": "code",
   "execution_count": 7,
   "metadata": {},
   "outputs": [],
   "source": [
    "BASE_BATCH = {\n",
    "    \"event_mask\": torch.BoolTensor([[True, True, True, True], [False, True, True, True]]),\n",
    "    \"time_delta\": torch.FloatTensor([[0, 2, 5, 1], [0, 3, 2, 1]]),\n",
    "    \"start_time\": torch.FloatTensor([1.0, 1412.0]),\n",
    "    \"static_indices\": torch.LongTensor([[1, 2, 3], [1, 3, 0]]),\n",
    "    \"static_measurement_indices\": torch.LongTensor([[1, 2, 3], [1, 3, 0]]),\n",
    "    \"dynamic_values_mask\": torch.BoolTensor(\n",
    "        [\n",
    "            [\n",
    "                [False, False, False, False, False, False],\n",
    "                [False, False, False, False, False, False],\n",
    "                [False, False, False, True, True, True],\n",
    "                [False, False, False, False, True, True],\n",
    "            ],\n",
    "            [\n",
    "                [False, False, False, False, False, False],\n",
    "                [False, False, False, False, False, False],\n",
    "                [False, False, False, False, False, True],\n",
    "                [False, False, False, False, True, True],\n",
    "            ],\n",
    "        ]\n",
    "    ),\n",
    "    \"dynamic_measurement_indices\": torch.LongTensor(\n",
    "        [\n",
    "            [\n",
    "                [1, 0, 0, 0, 0, 0],\n",
    "                [1, 2, 0, 0, 0, 0],\n",
    "                [1, 2, 2, 3, 3, 3],\n",
    "                [1, 2, 2, 2, 3, 3],\n",
    "            ],\n",
    "            [\n",
    "                [1, 0, 0, 0, 0, 0],\n",
    "                [1, 2, 0, 0, 0, 0],\n",
    "                [1, 2, 2, 2, 2, 3],\n",
    "                [1, 2, 2, 2, 3, 3],\n",
    "            ],\n",
    "        ]\n",
    "    ),\n",
    "    \"dynamic_indices\": torch.LongTensor(\n",
    "        [\n",
    "            [\n",
    "                [1, 0, 0, 0, 0, 0],\n",
    "                [2, 5, 0, 0, 0, 0],\n",
    "                [2, 4, 5, 7, 8, 9],\n",
    "                [2, 4, 5, 5, 8, 9],\n",
    "            ],\n",
    "            [\n",
    "                [1, 0, 0, 0, 0, 0],\n",
    "                [2, 5, 0, 0, 0, 0],\n",
    "                [2, 4, 5, 4, 4, 9],\n",
    "                [2, 4, 5, 5, 8, 9],\n",
    "            ],\n",
    "        ]\n",
    "    ),\n",
    "    \"dynamic_values\": torch.Tensor(\n",
    "        [\n",
    "            [\n",
    "                [0, 0, 0, 0, 0, 0],\n",
    "                [0, 0, 0, 0, 0, 0],\n",
    "                [0, 0, 0, 1.1, -1.1, 0.0],\n",
    "                [0, 0, 0, 0, -3.1, 0.2],\n",
    "            ],\n",
    "            [\n",
    "                [0, 0, 0, 0, 0, 0],\n",
    "                [0, 0, 0, 0, 0, 0],\n",
    "                [0, 0, 0, 0, 0, 1.4],\n",
    "                [0, 0, 0, 0, -3.0, 1.2],\n",
    "            ],\n",
    "        ]\n",
    "    ),\n",
    "    # batch_size, n_chunks, n_neighbors, neighbor_len, hidden\n",
    "    # n_chunks * model_chunk_len = model seq_len (?)\n",
    "    \"retreived_hidden_states\": torch.randn(2, 2, 2, 8, 4),\n",
    "}"
   ]
  },
  {
   "cell_type": "code",
   "execution_count": 23,
   "metadata": {},
   "outputs": [],
   "source": [
    "config = StructuredTransformerConfig(\n",
    "    **default_config_kwargs,\n",
    "    structured_event_processing_mode=StructuredEventProcessingMode.CONDITIONALLY_INDEPENDENT,\n",
    "    retreival_augmented=True,\n",
    "    chunked_cross_attention_chunk_len=2,\n",
    ")\n",
    "assert config.retreival_layer_idx is not None\n",
    "model = CondIndepModelForGenerativeSequenceModeling(config)"
   ]
  },
  {
   "cell_type": "code",
   "execution_count": 24,
   "metadata": {},
   "outputs": [],
   "source": [
    "batch = PytorchBatch(**BASE_BATCH)\n",
    "\n",
    "first_half_output = model.first_half_forward(batch)"
   ]
  },
  {
   "cell_type": "code",
   "execution_count": 25,
   "metadata": {},
   "outputs": [
    {
     "name": "stderr",
     "output_type": "stream",
     "text": [
      "/mnt/shared_home/vlialin/documents/EventStreamGPT/EventStream/transformer/modeling_retro.py:317: UserWarning: Implicit dimension choice for softmax has been deprecated. Change the call to include dim=X as an argument.\n",
      "  attn = F.softmax(attn.view(*attn.shape[:-2], -1)).view(attn.shape)\n"
     ]
    }
   ],
   "source": [
    "second_half_output = model.second_half_forward(\n",
    "    batch=batch,\n",
    "    first_half_output=first_half_output,\n",
    ")"
   ]
  },
  {
   "cell_type": "code",
   "execution_count": 30,
   "metadata": {},
   "outputs": [
    {
     "data": {
      "text/plain": [
       "CondIndepModelForGenerativeSequenceModeling(\n",
       "  (encoder): ConditionallyIndependentPointProcessTransformer(\n",
       "    (input_layer): ConditionallyIndependentPointProcessInputLayer(\n",
       "      (data_embedding_layer): DataEmbeddingLayer(\n",
       "        (embed_layer): EmbeddingBag(10, 4, mode='sum', padding_idx=0)\n",
       "      )\n",
       "      (time_embedding_layer): TemporalPositionEncoding()\n",
       "      (embedding_dropout): Dropout(p=0.1, inplace=False)\n",
       "    )\n",
       "    (h): ModuleList(\n",
       "      (0-4): 5 x InnerBlock(\n",
       "        (attn): InnerAttention(\n",
       "          (attention): InnerSelfAttention(\n",
       "            (attn_dropout): Dropout(p=0.1, inplace=False)\n",
       "            (resid_dropout): Dropout(p=0.1, inplace=False)\n",
       "            (k_proj): Linear(in_features=4, out_features=4, bias=False)\n",
       "            (v_proj): Linear(in_features=4, out_features=4, bias=False)\n",
       "            (q_proj): Linear(in_features=4, out_features=4, bias=False)\n",
       "            (out_proj): Linear(in_features=4, out_features=4, bias=True)\n",
       "          )\n",
       "          (layer_norm): LayerNorm((4,), eps=1e-05, elementwise_affine=True)\n",
       "        )\n",
       "        (layer_norm): LayerNorm((4,), eps=1e-05, elementwise_affine=True)\n",
       "        (mlp): InnerMLP(\n",
       "          (c_fc): Linear(in_features=4, out_features=32, bias=True)\n",
       "          (c_proj): Linear(in_features=32, out_features=4, bias=True)\n",
       "          (act): GELUActivation()\n",
       "          (dropout): Dropout(p=0.1, inplace=False)\n",
       "        )\n",
       "      )\n",
       "    )\n",
       "    (ln_f): LayerNorm((4,), eps=1e-05, elementwise_affine=True)\n",
       "  )\n",
       "  (output_layer): ConditionallyIndependentGenerativeOutputLayer(\n",
       "    (TTE_layer): ExponentialTTELayer(\n",
       "      (proj): Linear(in_features=4, out_features=1, bias=True)\n",
       "    )\n",
       "    (IsObservedLayer): Linear(in_features=4, out_features=3, bias=True)\n",
       "    (ClassificationLayer): Linear(in_features=4, out_features=10, bias=True)\n",
       "    (is_observed_criteria): BCEWithLogitsLoss()\n",
       "    (regression_layers): ModuleDict(\n",
       "      (regression_col): GaussianIndexedRegressionLayer(\n",
       "        (proj): Linear(in_features=4, out_features=8, bias=True)\n",
       "      )\n",
       "    )\n",
       "  )\n",
       ")"
      ]
     },
     "execution_count": 30,
     "metadata": {},
     "output_type": "execute_result"
    }
   ],
   "source": [
    "model"
   ]
  },
  {
   "cell_type": "code",
   "execution_count": null,
   "metadata": {},
   "outputs": [],
   "source": []
  }
 ],
 "metadata": {
  "kernelspec": {
   "display_name": "clinicallm",
   "language": "python",
   "name": "python3"
  },
  "language_info": {
   "codemirror_mode": {
    "name": "ipython",
    "version": 3
   },
   "file_extension": ".py",
   "mimetype": "text/x-python",
   "name": "python",
   "nbconvert_exporter": "python",
   "pygments_lexer": "ipython3",
   "version": "3.10.11"
  },
  "orig_nbformat": 4
 },
 "nbformat": 4,
 "nbformat_minor": 2
}
