{
 "cells": [
  {
   "cell_type": "markdown",
   "id": "22f2a71f",
   "metadata": {},
   "source": [
    "# Flat Representations Tutorial"
   ]
  },
  {
   "cell_type": "code",
   "execution_count": 1,
   "id": "a8c74a81",
   "metadata": {},
   "outputs": [],
   "source": [
    "import sys\n",
    "\n",
    "sys.path.append(\"../\")"
   ]
  },
  {
   "cell_type": "code",
   "execution_count": 2,
   "id": "cd4c4571",
   "metadata": {},
   "outputs": [],
   "source": [
    "# Imports\n",
    "import os\n",
    "from pathlib import Path\n",
    "import polars as pl, numpy as np\n",
    "import polars.selectors as cs\n",
    "\n",
    "from EventStream.data.dataset_polars import Dataset\n",
    "from EventStream.evaluation.FT_task_baseline import load_flat_rep, fit_baseline_task_model\n",
    "\n",
    "from sklearn.ensemble import RandomForestClassifier"
   ]
  },
  {
   "cell_type": "code",
   "execution_count": 3,
   "id": "942e8049",
   "metadata": {},
   "outputs": [],
   "source": [
    "ESD = Dataset.load(Path(os.getcwd()) / \"processed/sample\")"
   ]
  },
  {
   "cell_type": "code",
   "execution_count": 4,
   "id": "993583ec",
   "metadata": {
    "scrolled": true
   },
   "outputs": [
    {
     "data": {
      "application/vnd.jupyter.widget-view+json": {
       "model_id": "e2438fe379304c278b02ffbc2324d47e",
       "version_major": 2,
       "version_minor": 0
      },
      "text/plain": [
       "Flattening Splits:   0%|          | 0/3 [00:00<?, ?it/s]"
      ]
     },
     "metadata": {},
     "output_type": "display_data"
    },
    {
     "data": {
      "application/vnd.jupyter.widget-view+json": {
       "model_id": "",
       "version_major": 2,
       "version_minor": 0
      },
      "text/plain": [
       "Subject chunks:   0%|          | 0/1 [00:00<?, ?it/s]"
      ]
     },
     "metadata": {},
     "output_type": "display_data"
    },
    {
     "data": {
      "application/vnd.jupyter.widget-view+json": {
       "model_id": "",
       "version_major": 2,
       "version_minor": 0
      },
      "text/plain": [
       "Subject chunks:   0%|          | 0/1 [00:00<?, ?it/s]"
      ]
     },
     "metadata": {},
     "output_type": "display_data"
    },
    {
     "data": {
      "application/vnd.jupyter.widget-view+json": {
       "model_id": "",
       "version_major": 2,
       "version_minor": 0
      },
      "text/plain": [
       "Subject chunks:   0%|          | 0/1 [00:00<?, ?it/s]"
      ]
     },
     "metadata": {},
     "output_type": "display_data"
    },
    {
     "data": {
      "text/html": [
       "<div><style>\n",
       ".dataframe > thead > tr > th,\n",
       ".dataframe > tbody > tr > td {\n",
       "  text-align: right;\n",
       "}\n",
       "</style>\n",
       "<small>shape: (5, 487)</small><table border=\"1\" class=\"dataframe\"><thead><tr><th>subject_id</th><th>timestamp</th><th>static/eye_color/BLUE</th><th>static/eye_color/BROWN</th><th>static/eye_color/GREEN</th><th>static/eye_color/HAZEL</th><th>static/eye_color/UNK</th><th>7d/HR/HR/count</th><th>7d/HR/HR/has_values_count</th><th>7d/age/age/count</th><th>7d/age/age/has_values_count</th><th>7d/department/CARDIAC/count</th><th>7d/department/ORTHOPEDIC/count</th><th>7d/department/PULMONARY/count</th><th>7d/department/UNK/count</th><th>7d/lab_name/GCS__EQ_1/count</th><th>7d/lab_name/GCS__EQ_1/has_values_count</th><th>7d/lab_name/GCS__EQ_10/count</th><th>7d/lab_name/GCS__EQ_10/has_values_count</th><th>7d/lab_name/GCS__EQ_11/count</th><th>7d/lab_name/GCS__EQ_11/has_values_count</th><th>7d/lab_name/GCS__EQ_12/count</th><th>7d/lab_name/GCS__EQ_12/has_values_count</th><th>7d/lab_name/GCS__EQ_13/count</th><th>7d/lab_name/GCS__EQ_13/has_values_count</th><th>7d/lab_name/GCS__EQ_14/count</th><th>7d/lab_name/GCS__EQ_14/has_values_count</th><th>7d/lab_name/GCS__EQ_15/count</th><th>7d/lab_name/GCS__EQ_15/has_values_count</th><th>7d/lab_name/GCS__EQ_2/count</th><th>7d/lab_name/GCS__EQ_2/has_values_count</th><th>7d/lab_name/GCS__EQ_3/count</th><th>7d/lab_name/GCS__EQ_3/has_values_count</th><th>7d/lab_name/GCS__EQ_4/count</th><th>7d/lab_name/GCS__EQ_4/has_values_count</th><th>7d/lab_name/GCS__EQ_5/count</th><th>7d/lab_name/GCS__EQ_5/has_values_count</th><th>&hellip;</th><th>FULL/lab_name/GCS__EQ_8/min</th><th>FULL/lab_name/GCS__EQ_9/min</th><th>FULL/lab_name/SOFA__EQ_1/min</th><th>FULL/lab_name/SOFA__EQ_2/min</th><th>FULL/lab_name/SOFA__EQ_3/min</th><th>FULL/lab_name/SOFA__EQ_4/min</th><th>FULL/lab_name/SpO2/min</th><th>FULL/lab_name/UNK/min</th><th>FULL/lab_name/creatinine/min</th><th>FULL/lab_name/potassium/min</th><th>FULL/temp/temp/min</th><th>FULL/HR/HR/max</th><th>FULL/age/age/max</th><th>FULL/lab_name/GCS__EQ_1/max</th><th>FULL/lab_name/GCS__EQ_10/max</th><th>FULL/lab_name/GCS__EQ_11/max</th><th>FULL/lab_name/GCS__EQ_12/max</th><th>FULL/lab_name/GCS__EQ_13/max</th><th>FULL/lab_name/GCS__EQ_14/max</th><th>FULL/lab_name/GCS__EQ_15/max</th><th>FULL/lab_name/GCS__EQ_2/max</th><th>FULL/lab_name/GCS__EQ_3/max</th><th>FULL/lab_name/GCS__EQ_4/max</th><th>FULL/lab_name/GCS__EQ_5/max</th><th>FULL/lab_name/GCS__EQ_6/max</th><th>FULL/lab_name/GCS__EQ_7/max</th><th>FULL/lab_name/GCS__EQ_8/max</th><th>FULL/lab_name/GCS__EQ_9/max</th><th>FULL/lab_name/SOFA__EQ_1/max</th><th>FULL/lab_name/SOFA__EQ_2/max</th><th>FULL/lab_name/SOFA__EQ_3/max</th><th>FULL/lab_name/SOFA__EQ_4/max</th><th>FULL/lab_name/SpO2/max</th><th>FULL/lab_name/UNK/max</th><th>FULL/lab_name/creatinine/max</th><th>FULL/lab_name/potassium/max</th><th>FULL/temp/temp/max</th></tr><tr><td>u8</td><td>datetime[μs]</td><td>bool</td><td>bool</td><td>bool</td><td>bool</td><td>bool</td><td>i64</td><td>i64</td><td>u32</td><td>u32</td><td>i64</td><td>i64</td><td>i64</td><td>u32</td><td>i64</td><td>i64</td><td>i64</td><td>i64</td><td>i64</td><td>i64</td><td>i64</td><td>i64</td><td>i64</td><td>i64</td><td>i64</td><td>i64</td><td>i64</td><td>i64</td><td>i64</td><td>i64</td><td>i64</td><td>i64</td><td>i64</td><td>i64</td><td>i64</td><td>i64</td><td>&hellip;</td><td>f32</td><td>f32</td><td>f32</td><td>f32</td><td>f32</td><td>f32</td><td>f32</td><td>f32</td><td>f32</td><td>f32</td><td>f32</td><td>f32</td><td>f64</td><td>f32</td><td>f32</td><td>f32</td><td>f32</td><td>f32</td><td>f32</td><td>f32</td><td>f32</td><td>f32</td><td>f32</td><td>f32</td><td>f32</td><td>f32</td><td>f32</td><td>f32</td><td>f32</td><td>f32</td><td>f32</td><td>f32</td><td>f32</td><td>f32</td><td>f32</td><td>f32</td><td>f32</td></tr></thead><tbody><tr><td>0</td><td>2010-06-24 13:23:00</td><td>null</td><td>null</td><td>true</td><td>null</td><td>null</td><td>4</td><td>4</td><td>1</td><td>1</td><td>0</td><td>0</td><td>1</td><td>null</td><td>0</td><td>0</td><td>0</td><td>0</td><td>0</td><td>0</td><td>0</td><td>0</td><td>0</td><td>0</td><td>0</td><td>0</td><td>0</td><td>0</td><td>0</td><td>0</td><td>0</td><td>0</td><td>0</td><td>0</td><td>0</td><td>0</td><td>&hellip;</td><td>null</td><td>null</td><td>null</td><td>null</td><td>null</td><td>null</td><td>14.237596</td><td>null</td><td>null</td><td>null</td><td>0.926212</td><td>-0.840872</td><td>-0.558276</td><td>null</td><td>null</td><td>null</td><td>null</td><td>null</td><td>null</td><td>null</td><td>null</td><td>null</td><td>null</td><td>null</td><td>null</td><td>null</td><td>null</td><td>null</td><td>null</td><td>null</td><td>null</td><td>null</td><td>16.671087</td><td>null</td><td>null</td><td>null</td><td>1.246791</td></tr><tr><td>0</td><td>2010-06-24 14:23:00</td><td>null</td><td>null</td><td>true</td><td>null</td><td>null</td><td>5</td><td>5</td><td>2</td><td>2</td><td>0</td><td>0</td><td>1</td><td>null</td><td>0</td><td>0</td><td>0</td><td>0</td><td>0</td><td>0</td><td>0</td><td>0</td><td>0</td><td>0</td><td>0</td><td>0</td><td>0</td><td>0</td><td>0</td><td>0</td><td>0</td><td>0</td><td>0</td><td>0</td><td>0</td><td>0</td><td>&hellip;</td><td>null</td><td>null</td><td>null</td><td>null</td><td>null</td><td>null</td><td>14.237596</td><td>null</td><td>null</td><td>null</td><td>0.819353</td><td>-0.840872</td><td>-0.55825</td><td>null</td><td>null</td><td>null</td><td>null</td><td>null</td><td>null</td><td>null</td><td>null</td><td>null</td><td>null</td><td>null</td><td>null</td><td>null</td><td>null</td><td>null</td><td>null</td><td>null</td><td>null</td><td>null</td><td>16.671087</td><td>null</td><td>null</td><td>null</td><td>1.246791</td></tr><tr><td>0</td><td>2010-06-24 15:23:00</td><td>null</td><td>null</td><td>true</td><td>null</td><td>null</td><td>7</td><td>7</td><td>3</td><td>3</td><td>0</td><td>0</td><td>1</td><td>null</td><td>0</td><td>0</td><td>0</td><td>0</td><td>0</td><td>0</td><td>0</td><td>0</td><td>0</td><td>0</td><td>0</td><td>0</td><td>0</td><td>0</td><td>0</td><td>0</td><td>0</td><td>0</td><td>0</td><td>0</td><td>0</td><td>0</td><td>&hellip;</td><td>null</td><td>null</td><td>null</td><td>null</td><td>null</td><td>null</td><td>13.020849</td><td>null</td><td>null</td><td>null</td><td>0.552203</td><td>-0.840872</td><td>-0.558224</td><td>null</td><td>null</td><td>null</td><td>null</td><td>null</td><td>null</td><td>null</td><td>null</td><td>null</td><td>null</td><td>null</td><td>null</td><td>null</td><td>null</td><td>null</td><td>null</td><td>null</td><td>null</td><td>null</td><td>16.671087</td><td>null</td><td>null</td><td>null</td><td>1.246791</td></tr><tr><td>0</td><td>2010-06-24 16:23:00</td><td>null</td><td>null</td><td>true</td><td>null</td><td>null</td><td>9</td><td>9</td><td>4</td><td>4</td><td>0</td><td>0</td><td>1</td><td>null</td><td>0</td><td>0</td><td>0</td><td>0</td><td>0</td><td>0</td><td>0</td><td>0</td><td>0</td><td>0</td><td>0</td><td>0</td><td>0</td><td>0</td><td>0</td><td>0</td><td>0</td><td>0</td><td>0</td><td>0</td><td>0</td><td>0</td><td>&hellip;</td><td>null</td><td>null</td><td>null</td><td>null</td><td>null</td><td>null</td><td>13.020849</td><td>null</td><td>null</td><td>null</td><td>0.552203</td><td>-0.840872</td><td>-0.558199</td><td>null</td><td>null</td><td>null</td><td>null</td><td>null</td><td>null</td><td>null</td><td>null</td><td>null</td><td>null</td><td>null</td><td>null</td><td>null</td><td>null</td><td>null</td><td>null</td><td>null</td><td>null</td><td>null</td><td>16.671087</td><td>null</td><td>null</td><td>null</td><td>1.246791</td></tr><tr><td>0</td><td>2010-06-24 17:23:00</td><td>null</td><td>null</td><td>true</td><td>null</td><td>null</td><td>12</td><td>12</td><td>5</td><td>5</td><td>0</td><td>0</td><td>1</td><td>null</td><td>0</td><td>0</td><td>0</td><td>0</td><td>0</td><td>0</td><td>0</td><td>0</td><td>0</td><td>0</td><td>0</td><td>0</td><td>0</td><td>0</td><td>0</td><td>0</td><td>0</td><td>0</td><td>0</td><td>0</td><td>0</td><td>0</td><td>&hellip;</td><td>null</td><td>null</td><td>null</td><td>null</td><td>null</td><td>null</td><td>13.020849</td><td>null</td><td>null</td><td>null</td><td>0.552203</td><td>-0.840872</td><td>-0.558173</td><td>null</td><td>null</td><td>null</td><td>null</td><td>null</td><td>null</td><td>null</td><td>null</td><td>null</td><td>null</td><td>null</td><td>null</td><td>null</td><td>null</td><td>null</td><td>null</td><td>null</td><td>null</td><td>null</td><td>16.671087</td><td>null</td><td>null</td><td>null</td><td>1.246791</td></tr></tbody></table></div>"
      ],
      "text/plain": [
       "shape: (5, 487)\n",
       "┌──────────┬─────┬────────────┬────────────┬───┬────────────┬────────────┬────────────┬────────────┐\n",
       "│ subject_ ┆ tim ┆ static/eye ┆ static/eye ┆ … ┆ FULL/lab_n ┆ FULL/lab_n ┆ FULL/lab_n ┆ FULL/temp/ │\n",
       "│ id       ┆ est ┆ _color/BLU ┆ _color/BRO ┆   ┆ ame/UNK/ma ┆ ame/creati ┆ ame/potass ┆ temp/max   │\n",
       "│ ---      ┆ amp ┆ E          ┆ WN         ┆   ┆ x          ┆ nine/max   ┆ ium/max    ┆ ---        │\n",
       "│ u8       ┆ --- ┆ ---        ┆ ---        ┆   ┆ ---        ┆ ---        ┆ ---        ┆ f32        │\n",
       "│          ┆ dat ┆ bool       ┆ bool       ┆   ┆ f32        ┆ f32        ┆ f32        ┆            │\n",
       "│          ┆ eti ┆            ┆            ┆   ┆            ┆            ┆            ┆            │\n",
       "│          ┆ me[ ┆            ┆            ┆   ┆            ┆            ┆            ┆            │\n",
       "│          ┆ μs] ┆            ┆            ┆   ┆            ┆            ┆            ┆            │\n",
       "╞══════════╪═════╪════════════╪════════════╪═══╪════════════╪════════════╪════════════╪════════════╡\n",
       "│ 0        ┆ 201 ┆ null       ┆ null       ┆ … ┆ null       ┆ null       ┆ null       ┆ 1.246791   │\n",
       "│          ┆ 0-0 ┆            ┆            ┆   ┆            ┆            ┆            ┆            │\n",
       "│          ┆ 6-2 ┆            ┆            ┆   ┆            ┆            ┆            ┆            │\n",
       "│          ┆ 4   ┆            ┆            ┆   ┆            ┆            ┆            ┆            │\n",
       "│          ┆ 13: ┆            ┆            ┆   ┆            ┆            ┆            ┆            │\n",
       "│          ┆ 23: ┆            ┆            ┆   ┆            ┆            ┆            ┆            │\n",
       "│          ┆ 00  ┆            ┆            ┆   ┆            ┆            ┆            ┆            │\n",
       "│ 0        ┆ 201 ┆ null       ┆ null       ┆ … ┆ null       ┆ null       ┆ null       ┆ 1.246791   │\n",
       "│          ┆ 0-0 ┆            ┆            ┆   ┆            ┆            ┆            ┆            │\n",
       "│          ┆ 6-2 ┆            ┆            ┆   ┆            ┆            ┆            ┆            │\n",
       "│          ┆ 4   ┆            ┆            ┆   ┆            ┆            ┆            ┆            │\n",
       "│          ┆ 14: ┆            ┆            ┆   ┆            ┆            ┆            ┆            │\n",
       "│          ┆ 23: ┆            ┆            ┆   ┆            ┆            ┆            ┆            │\n",
       "│          ┆ 00  ┆            ┆            ┆   ┆            ┆            ┆            ┆            │\n",
       "│ 0        ┆ 201 ┆ null       ┆ null       ┆ … ┆ null       ┆ null       ┆ null       ┆ 1.246791   │\n",
       "│          ┆ 0-0 ┆            ┆            ┆   ┆            ┆            ┆            ┆            │\n",
       "│          ┆ 6-2 ┆            ┆            ┆   ┆            ┆            ┆            ┆            │\n",
       "│          ┆ 4   ┆            ┆            ┆   ┆            ┆            ┆            ┆            │\n",
       "│          ┆ 15: ┆            ┆            ┆   ┆            ┆            ┆            ┆            │\n",
       "│          ┆ 23: ┆            ┆            ┆   ┆            ┆            ┆            ┆            │\n",
       "│          ┆ 00  ┆            ┆            ┆   ┆            ┆            ┆            ┆            │\n",
       "│ 0        ┆ 201 ┆ null       ┆ null       ┆ … ┆ null       ┆ null       ┆ null       ┆ 1.246791   │\n",
       "│          ┆ 0-0 ┆            ┆            ┆   ┆            ┆            ┆            ┆            │\n",
       "│          ┆ 6-2 ┆            ┆            ┆   ┆            ┆            ┆            ┆            │\n",
       "│          ┆ 4   ┆            ┆            ┆   ┆            ┆            ┆            ┆            │\n",
       "│          ┆ 16: ┆            ┆            ┆   ┆            ┆            ┆            ┆            │\n",
       "│          ┆ 23: ┆            ┆            ┆   ┆            ┆            ┆            ┆            │\n",
       "│          ┆ 00  ┆            ┆            ┆   ┆            ┆            ┆            ┆            │\n",
       "│ 0        ┆ 201 ┆ null       ┆ null       ┆ … ┆ null       ┆ null       ┆ null       ┆ 1.246791   │\n",
       "│          ┆ 0-0 ┆            ┆            ┆   ┆            ┆            ┆            ┆            │\n",
       "│          ┆ 6-2 ┆            ┆            ┆   ┆            ┆            ┆            ┆            │\n",
       "│          ┆ 4   ┆            ┆            ┆   ┆            ┆            ┆            ┆            │\n",
       "│          ┆ 17: ┆            ┆            ┆   ┆            ┆            ┆            ┆            │\n",
       "│          ┆ 23: ┆            ┆            ┆   ┆            ┆            ┆            ┆            │\n",
       "│          ┆ 00  ┆            ┆            ┆   ┆            ┆            ┆            ┆            │\n",
       "└──────────┴─────┴────────────┴────────────┴───┴────────────┴────────────┴────────────┴────────────┘"
      ]
     },
     "metadata": {},
     "output_type": "display_data"
    }
   ],
   "source": [
    "ESD.cache_flat_representation(\n",
    "    subjects_per_output_file=None,\n",
    "    feature_inclusion_frequency=None,\n",
    "    do_overwrite=False,\n",
    "    do_update=True,\n",
    ")\n",
    "flat_reps = load_flat_rep(ESD, window_sizes=['7d', '30d', 'FULL'])\n",
    "display(flat_reps['train'].head().collect())"
   ]
  },
  {
   "cell_type": "code",
   "execution_count": 5,
   "id": "31b3e3e3",
   "metadata": {},
   "outputs": [
    {
     "name": "stdout",
     "output_type": "stream",
     "text": [
      "Loading events from /home/mmd/Projects/EventStreamGPT/sample_data/processed/sample/events_df.parquet...\n"
     ]
    }
   ],
   "source": [
    "task_df = (\n",
    "    ESD.events_df\n",
    "    .groupby('subject_id')\n",
    "    .agg(pl.col('timestamp').sample().first().alias('end_time'))\n",
    "    .with_columns(\n",
    "        pl.lit(np.random.choice([0, 1, 2], size=len(ESD.subject_ids))).alias('label'),\n",
    "        pl.lit(None, dtype=pl.Datetime).alias('start_time')\n",
    "    )\n",
    ").lazy()"
   ]
  },
  {
   "cell_type": "code",
   "execution_count": 6,
   "id": "d6f4cf40",
   "metadata": {
    "scrolled": false
   },
   "outputs": [
    {
     "name": "stdout",
     "output_type": "stream",
     "text": [
      "Checking for validity of window size options...\n",
      "Loading representations for 7d, 30d, FULL\n",
      "Loading datasets for train, tuning\n",
      "Done with datasets for train, tuning with X of shape (90, 485) (elapsed: 0:00:01.360938)\n",
      "Loading datasets for held_out\n",
      "Done with datasets for held_out with X of shape (10, 485) (elapsed: 0:00:00.109677)\n",
      "Fitting model!\n",
      "Fitting 3 folds for each of 2 candidates, totalling 6 fits\n"
     ]
    },
    {
     "name": "stderr",
     "output_type": "stream",
     "text": [
      "/home/mmd/mambaforge/envs/ESGPT_cpu_test_2/lib/python3.10/site-packages/sklearn/preprocessing/_data.py:473: RuntimeWarning: All-NaN slice encountered\n",
      "  data_min = np.nanmin(X, axis=0)\n",
      "/home/mmd/mambaforge/envs/ESGPT_cpu_test_2/lib/python3.10/site-packages/sklearn/preprocessing/_data.py:474: RuntimeWarning: All-NaN slice encountered\n",
      "  data_max = np.nanmax(X, axis=0)\n",
      "/home/mmd/mambaforge/envs/ESGPT_cpu_test_2/lib/python3.10/site-packages/sklearn/preprocessing/_data.py:473: RuntimeWarning: All-NaN slice encountered\n",
      "  data_min = np.nanmin(X, axis=0)\n",
      "/home/mmd/mambaforge/envs/ESGPT_cpu_test_2/lib/python3.10/site-packages/sklearn/preprocessing/_data.py:474: RuntimeWarning: All-NaN slice encountered\n",
      "  data_max = np.nanmax(X, axis=0)\n",
      "/home/mmd/mambaforge/envs/ESGPT_cpu_test_2/lib/python3.10/site-packages/sklearn/preprocessing/_data.py:473: RuntimeWarning: All-NaN slice encountered\n",
      "  data_min = np.nanmin(X, axis=0)\n",
      "/home/mmd/mambaforge/envs/ESGPT_cpu_test_2/lib/python3.10/site-packages/sklearn/preprocessing/_data.py:474: RuntimeWarning: All-NaN slice encountered\n",
      "  data_max = np.nanmax(X, axis=0)\n",
      "/home/mmd/mambaforge/envs/ESGPT_cpu_test_2/lib/python3.10/site-packages/sklearn/utils/extmath.py:1047: RuntimeWarning: invalid value encountered in true_divide\n",
      "  updated_mean = (last_sum + new_sum) / updated_sample_count\n",
      "/home/mmd/mambaforge/envs/ESGPT_cpu_test_2/lib/python3.10/site-packages/sklearn/utils/extmath.py:1052: RuntimeWarning: invalid value encountered in true_divide\n",
      "  T = new_sum / new_sample_count\n",
      "/home/mmd/mambaforge/envs/ESGPT_cpu_test_2/lib/python3.10/site-packages/sklearn/utils/extmath.py:1072: RuntimeWarning: invalid value encountered in true_divide\n",
      "  new_unnormalized_variance -= correction**2 / new_sample_count\n",
      "/home/mmd/mambaforge/envs/ESGPT_cpu_test_2/lib/python3.10/site-packages/sklearn/utils/extmath.py:1047: RuntimeWarning: invalid value encountered in true_divide\n",
      "  updated_mean = (last_sum + new_sum) / updated_sample_count\n",
      "/home/mmd/mambaforge/envs/ESGPT_cpu_test_2/lib/python3.10/site-packages/sklearn/utils/extmath.py:1052: RuntimeWarning: invalid value encountered in true_divide\n",
      "  T = new_sum / new_sample_count\n",
      "/home/mmd/mambaforge/envs/ESGPT_cpu_test_2/lib/python3.10/site-packages/sklearn/utils/extmath.py:1072: RuntimeWarning: invalid value encountered in true_divide\n",
      "  new_unnormalized_variance -= correction**2 / new_sample_count\n",
      "/home/mmd/mambaforge/envs/ESGPT_cpu_test_2/lib/python3.10/site-packages/sklearn/utils/extmath.py:1047: RuntimeWarning: invalid value encountered in true_divide\n",
      "  updated_mean = (last_sum + new_sum) / updated_sample_count\n",
      "/home/mmd/mambaforge/envs/ESGPT_cpu_test_2/lib/python3.10/site-packages/sklearn/utils/extmath.py:1052: RuntimeWarning: invalid value encountered in true_divide\n",
      "  T = new_sum / new_sample_count\n",
      "/home/mmd/mambaforge/envs/ESGPT_cpu_test_2/lib/python3.10/site-packages/sklearn/utils/extmath.py:1072: RuntimeWarning: invalid value encountered in true_divide\n",
      "  new_unnormalized_variance -= correction**2 / new_sample_count\n",
      "/home/mmd/mambaforge/envs/ESGPT_cpu_test_2/lib/python3.10/site-packages/sklearn/utils/extmath.py:1047: RuntimeWarning: invalid value encountered in true_divide\n",
      "  updated_mean = (last_sum + new_sum) / updated_sample_count\n",
      "/home/mmd/mambaforge/envs/ESGPT_cpu_test_2/lib/python3.10/site-packages/sklearn/utils/extmath.py:1052: RuntimeWarning: invalid value encountered in true_divide\n",
      "  T = new_sum / new_sample_count\n",
      "/home/mmd/mambaforge/envs/ESGPT_cpu_test_2/lib/python3.10/site-packages/sklearn/utils/extmath.py:1072: RuntimeWarning: invalid value encountered in true_divide\n",
      "  new_unnormalized_variance -= correction**2 / new_sample_count\n"
     ]
    },
    {
     "data": {
      "text/html": [
       "<style>#sk-container-id-1 {color: black;background-color: white;}#sk-container-id-1 pre{padding: 0;}#sk-container-id-1 div.sk-toggleable {background-color: white;}#sk-container-id-1 label.sk-toggleable__label {cursor: pointer;display: block;width: 100%;margin-bottom: 0;padding: 0.3em;box-sizing: border-box;text-align: center;}#sk-container-id-1 label.sk-toggleable__label-arrow:before {content: \"▸\";float: left;margin-right: 0.25em;color: #696969;}#sk-container-id-1 label.sk-toggleable__label-arrow:hover:before {color: black;}#sk-container-id-1 div.sk-estimator:hover label.sk-toggleable__label-arrow:before {color: black;}#sk-container-id-1 div.sk-toggleable__content {max-height: 0;max-width: 0;overflow: hidden;text-align: left;background-color: #f0f8ff;}#sk-container-id-1 div.sk-toggleable__content pre {margin: 0.2em;color: black;border-radius: 0.25em;background-color: #f0f8ff;}#sk-container-id-1 input.sk-toggleable__control:checked~div.sk-toggleable__content {max-height: 200px;max-width: 100%;overflow: auto;}#sk-container-id-1 input.sk-toggleable__control:checked~label.sk-toggleable__label-arrow:before {content: \"▾\";}#sk-container-id-1 div.sk-estimator input.sk-toggleable__control:checked~label.sk-toggleable__label {background-color: #d4ebff;}#sk-container-id-1 div.sk-label input.sk-toggleable__control:checked~label.sk-toggleable__label {background-color: #d4ebff;}#sk-container-id-1 input.sk-hidden--visually {border: 0;clip: rect(1px 1px 1px 1px);clip: rect(1px, 1px, 1px, 1px);height: 1px;margin: -1px;overflow: hidden;padding: 0;position: absolute;width: 1px;}#sk-container-id-1 div.sk-estimator {font-family: monospace;background-color: #f0f8ff;border: 1px dotted black;border-radius: 0.25em;box-sizing: border-box;margin-bottom: 0.5em;}#sk-container-id-1 div.sk-estimator:hover {background-color: #d4ebff;}#sk-container-id-1 div.sk-parallel-item::after {content: \"\";width: 100%;border-bottom: 1px solid gray;flex-grow: 1;}#sk-container-id-1 div.sk-label:hover label.sk-toggleable__label {background-color: #d4ebff;}#sk-container-id-1 div.sk-serial::before {content: \"\";position: absolute;border-left: 1px solid gray;box-sizing: border-box;top: 0;bottom: 0;left: 50%;z-index: 0;}#sk-container-id-1 div.sk-serial {display: flex;flex-direction: column;align-items: center;background-color: white;padding-right: 0.2em;padding-left: 0.2em;position: relative;}#sk-container-id-1 div.sk-item {position: relative;z-index: 1;}#sk-container-id-1 div.sk-parallel {display: flex;align-items: stretch;justify-content: center;background-color: white;position: relative;}#sk-container-id-1 div.sk-item::before, #sk-container-id-1 div.sk-parallel-item::before {content: \"\";position: absolute;border-left: 1px solid gray;box-sizing: border-box;top: 0;bottom: 0;left: 50%;z-index: -1;}#sk-container-id-1 div.sk-parallel-item {display: flex;flex-direction: column;z-index: 1;position: relative;background-color: white;}#sk-container-id-1 div.sk-parallel-item:first-child::after {align-self: flex-end;width: 50%;}#sk-container-id-1 div.sk-parallel-item:last-child::after {align-self: flex-start;width: 50%;}#sk-container-id-1 div.sk-parallel-item:only-child::after {width: 0;}#sk-container-id-1 div.sk-dashed-wrapped {border: 1px dashed gray;margin: 0 0.4em 0.5em 0.4em;box-sizing: border-box;padding-bottom: 0.4em;background-color: white;}#sk-container-id-1 div.sk-label label {font-family: monospace;font-weight: bold;display: inline-block;line-height: 1.2em;}#sk-container-id-1 div.sk-label-container {text-align: center;}#sk-container-id-1 div.sk-container {/* jupyter's `normalize.less` sets `[hidden] { display: none; }` but bootstrap.min.css set `[hidden] { display: none !important; }` so we also need the `!important` here to be able to override the default hidden behavior on the sphinx rendered scikit-learn.org. See: https://github.com/scikit-learn/scikit-learn/issues/21755 */display: inline-block !important;position: relative;}#sk-container-id-1 div.sk-text-repr-fallback {display: none;}</style><div id=\"sk-container-id-1\" class=\"sk-top-container\"><div class=\"sk-text-repr-fallback\"><pre>RandomizedSearchCV(cv=3, error_score=&#x27;raise&#x27;,\n",
       "                   estimator=Pipeline(steps=[(&#x27;loading_features&#x27;,\n",
       "                                              &lt;EventStream.evaluation.FT_task_baseline.ESDFlatFeatureLoader object at 0x7f994076d300&gt;),\n",
       "                                             (&#x27;scaling&#x27;, &#x27;passthrough&#x27;),\n",
       "                                             (&#x27;imputation&#x27;, &#x27;passthrough&#x27;),\n",
       "                                             (&#x27;reduce_dim&#x27;, &#x27;passthrough&#x27;),\n",
       "                                             (&#x27;model&#x27;,\n",
       "                                              RandomForestClassifier())]),\n",
       "                   n_iter=2, n_jobs=-1,\n",
       "                   param_distributions=[{&#x27;imputation&#x27;...\n",
       "                                         &#x27;loading_features__window_sizes&#x27;: &lt;EventStream.evaluation.FT_task_baseline.WindowSizeDist object at 0x7f994076ed70&gt;,\n",
       "                                         &#x27;model__min_samples_split&#x27;: [2, 10,\n",
       "                                                                      100],\n",
       "                                         &#x27;reduce_dim&#x27;: [SelectKBest(score_func=&lt;function mutual_info_classif at 0x7f9940aa2cb0&gt;)],\n",
       "                                         &#x27;reduce_dim__k&#x27;: &lt;scipy.stats._distn_infrastructure.rv_frozen object at 0x7f9940ae0220&gt;,\n",
       "                                         &#x27;scaling&#x27;: [StandardScaler()]}],\n",
       "                   random_state=1, verbose=20)</pre><b>In a Jupyter environment, please rerun this cell to show the HTML representation or trust the notebook. <br />On GitHub, the HTML representation is unable to render, please try loading this page with nbviewer.org.</b></div><div class=\"sk-container\" hidden><div class=\"sk-item sk-dashed-wrapped\"><div class=\"sk-label-container\"><div class=\"sk-label sk-toggleable\"><input class=\"sk-toggleable__control sk-hidden--visually\" id=\"sk-estimator-id-1\" type=\"checkbox\" ><label for=\"sk-estimator-id-1\" class=\"sk-toggleable__label sk-toggleable__label-arrow\">RandomizedSearchCV</label><div class=\"sk-toggleable__content\"><pre>RandomizedSearchCV(cv=3, error_score=&#x27;raise&#x27;,\n",
       "                   estimator=Pipeline(steps=[(&#x27;loading_features&#x27;,\n",
       "                                              &lt;EventStream.evaluation.FT_task_baseline.ESDFlatFeatureLoader object at 0x7f994076d300&gt;),\n",
       "                                             (&#x27;scaling&#x27;, &#x27;passthrough&#x27;),\n",
       "                                             (&#x27;imputation&#x27;, &#x27;passthrough&#x27;),\n",
       "                                             (&#x27;reduce_dim&#x27;, &#x27;passthrough&#x27;),\n",
       "                                             (&#x27;model&#x27;,\n",
       "                                              RandomForestClassifier())]),\n",
       "                   n_iter=2, n_jobs=-1,\n",
       "                   param_distributions=[{&#x27;imputation&#x27;...\n",
       "                                         &#x27;loading_features__window_sizes&#x27;: &lt;EventStream.evaluation.FT_task_baseline.WindowSizeDist object at 0x7f994076ed70&gt;,\n",
       "                                         &#x27;model__min_samples_split&#x27;: [2, 10,\n",
       "                                                                      100],\n",
       "                                         &#x27;reduce_dim&#x27;: [SelectKBest(score_func=&lt;function mutual_info_classif at 0x7f9940aa2cb0&gt;)],\n",
       "                                         &#x27;reduce_dim__k&#x27;: &lt;scipy.stats._distn_infrastructure.rv_frozen object at 0x7f9940ae0220&gt;,\n",
       "                                         &#x27;scaling&#x27;: [StandardScaler()]}],\n",
       "                   random_state=1, verbose=20)</pre></div></div></div><div class=\"sk-parallel\"><div class=\"sk-parallel-item\"><div class=\"sk-item\"><div class=\"sk-label-container\"><div class=\"sk-label sk-toggleable\"><input class=\"sk-toggleable__control sk-hidden--visually\" id=\"sk-estimator-id-2\" type=\"checkbox\" ><label for=\"sk-estimator-id-2\" class=\"sk-toggleable__label sk-toggleable__label-arrow\">estimator: Pipeline</label><div class=\"sk-toggleable__content\"><pre>Pipeline(steps=[(&#x27;loading_features&#x27;,\n",
       "                 &lt;EventStream.evaluation.FT_task_baseline.ESDFlatFeatureLoader object at 0x7f994076d300&gt;),\n",
       "                (&#x27;scaling&#x27;, &#x27;passthrough&#x27;), (&#x27;imputation&#x27;, &#x27;passthrough&#x27;),\n",
       "                (&#x27;reduce_dim&#x27;, &#x27;passthrough&#x27;),\n",
       "                (&#x27;model&#x27;, RandomForestClassifier())])</pre></div></div></div><div class=\"sk-serial\"><div class=\"sk-item\"><div class=\"sk-serial\"><div class=\"sk-item\"><div class=\"sk-estimator sk-toggleable\"><input class=\"sk-toggleable__control sk-hidden--visually\" id=\"sk-estimator-id-3\" type=\"checkbox\" ><label for=\"sk-estimator-id-3\" class=\"sk-toggleable__label sk-toggleable__label-arrow\">ESDFlatFeatureLoader</label><div class=\"sk-toggleable__content\"><pre>&lt;EventStream.evaluation.FT_task_baseline.ESDFlatFeatureLoader object at 0x7f994076d300&gt;</pre></div></div></div><div class=\"sk-item\"><div class=\"sk-estimator sk-toggleable\"><input class=\"sk-toggleable__control sk-hidden--visually\" id=\"sk-estimator-id-4\" type=\"checkbox\" ><label for=\"sk-estimator-id-4\" class=\"sk-toggleable__label sk-toggleable__label-arrow\">passthrough</label><div class=\"sk-toggleable__content\"><pre>passthrough</pre></div></div></div><div class=\"sk-item\"><div class=\"sk-estimator sk-toggleable\"><input class=\"sk-toggleable__control sk-hidden--visually\" id=\"sk-estimator-id-5\" type=\"checkbox\" ><label for=\"sk-estimator-id-5\" class=\"sk-toggleable__label sk-toggleable__label-arrow\">passthrough</label><div class=\"sk-toggleable__content\"><pre>passthrough</pre></div></div></div><div class=\"sk-item\"><div class=\"sk-estimator sk-toggleable\"><input class=\"sk-toggleable__control sk-hidden--visually\" id=\"sk-estimator-id-6\" type=\"checkbox\" ><label for=\"sk-estimator-id-6\" class=\"sk-toggleable__label sk-toggleable__label-arrow\">passthrough</label><div class=\"sk-toggleable__content\"><pre>passthrough</pre></div></div></div><div class=\"sk-item\"><div class=\"sk-estimator sk-toggleable\"><input class=\"sk-toggleable__control sk-hidden--visually\" id=\"sk-estimator-id-7\" type=\"checkbox\" ><label for=\"sk-estimator-id-7\" class=\"sk-toggleable__label sk-toggleable__label-arrow\">RandomForestClassifier</label><div class=\"sk-toggleable__content\"><pre>RandomForestClassifier()</pre></div></div></div></div></div></div></div></div></div></div></div></div>"
      ],
      "text/plain": [
       "RandomizedSearchCV(cv=3, error_score='raise',\n",
       "                   estimator=Pipeline(steps=[('loading_features',\n",
       "                                              <EventStream.evaluation.FT_task_baseline.ESDFlatFeatureLoader object at 0x7f994076d300>),\n",
       "                                             ('scaling', 'passthrough'),\n",
       "                                             ('imputation', 'passthrough'),\n",
       "                                             ('reduce_dim', 'passthrough'),\n",
       "                                             ('model',\n",
       "                                              RandomForestClassifier())]),\n",
       "                   n_iter=2, n_jobs=-1,\n",
       "                   param_distributions=[{'imputation'...\n",
       "                                         'loading_features__window_sizes': <EventStream.evaluation.FT_task_baseline.WindowSizeDist object at 0x7f994076ed70>,\n",
       "                                         'model__min_samples_split': [2, 10,\n",
       "                                                                      100],\n",
       "                                         'reduce_dim': [SelectKBest(score_func=<function mutual_info_classif at 0x7f9940aa2cb0>)],\n",
       "                                         'reduce_dim__k': <scipy.stats._distn_infrastructure.rv_frozen object at 0x7f9940ae0220>,\n",
       "                                         'scaling': [StandardScaler()]}],\n",
       "                   random_state=1, verbose=20)"
      ]
     },
     "execution_count": 6,
     "metadata": {},
     "output_type": "execute_result"
    }
   ],
   "source": [
    "out = fit_baseline_task_model(\n",
    "    task_df, 'label', ESD, n_samples=3, \n",
    "    model_cls = RandomForestClassifier,\n",
    "    model_param_distributions={'min_samples_split': [2, 10, 100]},\n",
    "    verbose=20,\n",
    "    hyperparameter_search_budget=2,\n",
    "    error_score='raise',\n",
    "    window_size_options=['7d', '30d', 'FULL'],\n",
    "    seed=1,\n",
    ")"
   ]
  },
  {
   "cell_type": "code",
   "execution_count": 9,
   "id": "5a9a8e64",
   "metadata": {},
   "outputs": [
    {
     "data": {
      "text/plain": [
       "{'imputation': SimpleImputer(fill_value=0, strategy='constant'),\n",
       " 'imputation__add_indicator': False,\n",
       " 'imputation__fill_value': 0,\n",
       " 'imputation__strategy': 'constant',\n",
       " 'loading_features__convert_to_mean_var': 0,\n",
       " 'loading_features__feature_inclusion_frequency': 1.4297724879798385e-05,\n",
       " 'loading_features__window_sizes': ['FULL', '7d', '30d'],\n",
       " 'model__min_samples_split': 2,\n",
       " 'reduce_dim': PCA(n_components=30),\n",
       " 'reduce_dim__n_components': 30,\n",
       " 'scaling': StandardScaler()}"
      ]
     },
     "execution_count": 9,
     "metadata": {},
     "output_type": "execute_result"
    }
   ],
   "source": [
    "out.best_params_"
   ]
  },
  {
   "cell_type": "code",
   "execution_count": 10,
   "id": "7fbe60ec",
   "metadata": {},
   "outputs": [
    {
     "data": {
      "text/html": [
       "<style>#sk-container-id-2 {color: black;background-color: white;}#sk-container-id-2 pre{padding: 0;}#sk-container-id-2 div.sk-toggleable {background-color: white;}#sk-container-id-2 label.sk-toggleable__label {cursor: pointer;display: block;width: 100%;margin-bottom: 0;padding: 0.3em;box-sizing: border-box;text-align: center;}#sk-container-id-2 label.sk-toggleable__label-arrow:before {content: \"▸\";float: left;margin-right: 0.25em;color: #696969;}#sk-container-id-2 label.sk-toggleable__label-arrow:hover:before {color: black;}#sk-container-id-2 div.sk-estimator:hover label.sk-toggleable__label-arrow:before {color: black;}#sk-container-id-2 div.sk-toggleable__content {max-height: 0;max-width: 0;overflow: hidden;text-align: left;background-color: #f0f8ff;}#sk-container-id-2 div.sk-toggleable__content pre {margin: 0.2em;color: black;border-radius: 0.25em;background-color: #f0f8ff;}#sk-container-id-2 input.sk-toggleable__control:checked~div.sk-toggleable__content {max-height: 200px;max-width: 100%;overflow: auto;}#sk-container-id-2 input.sk-toggleable__control:checked~label.sk-toggleable__label-arrow:before {content: \"▾\";}#sk-container-id-2 div.sk-estimator input.sk-toggleable__control:checked~label.sk-toggleable__label {background-color: #d4ebff;}#sk-container-id-2 div.sk-label input.sk-toggleable__control:checked~label.sk-toggleable__label {background-color: #d4ebff;}#sk-container-id-2 input.sk-hidden--visually {border: 0;clip: rect(1px 1px 1px 1px);clip: rect(1px, 1px, 1px, 1px);height: 1px;margin: -1px;overflow: hidden;padding: 0;position: absolute;width: 1px;}#sk-container-id-2 div.sk-estimator {font-family: monospace;background-color: #f0f8ff;border: 1px dotted black;border-radius: 0.25em;box-sizing: border-box;margin-bottom: 0.5em;}#sk-container-id-2 div.sk-estimator:hover {background-color: #d4ebff;}#sk-container-id-2 div.sk-parallel-item::after {content: \"\";width: 100%;border-bottom: 1px solid gray;flex-grow: 1;}#sk-container-id-2 div.sk-label:hover label.sk-toggleable__label {background-color: #d4ebff;}#sk-container-id-2 div.sk-serial::before {content: \"\";position: absolute;border-left: 1px solid gray;box-sizing: border-box;top: 0;bottom: 0;left: 50%;z-index: 0;}#sk-container-id-2 div.sk-serial {display: flex;flex-direction: column;align-items: center;background-color: white;padding-right: 0.2em;padding-left: 0.2em;position: relative;}#sk-container-id-2 div.sk-item {position: relative;z-index: 1;}#sk-container-id-2 div.sk-parallel {display: flex;align-items: stretch;justify-content: center;background-color: white;position: relative;}#sk-container-id-2 div.sk-item::before, #sk-container-id-2 div.sk-parallel-item::before {content: \"\";position: absolute;border-left: 1px solid gray;box-sizing: border-box;top: 0;bottom: 0;left: 50%;z-index: -1;}#sk-container-id-2 div.sk-parallel-item {display: flex;flex-direction: column;z-index: 1;position: relative;background-color: white;}#sk-container-id-2 div.sk-parallel-item:first-child::after {align-self: flex-end;width: 50%;}#sk-container-id-2 div.sk-parallel-item:last-child::after {align-self: flex-start;width: 50%;}#sk-container-id-2 div.sk-parallel-item:only-child::after {width: 0;}#sk-container-id-2 div.sk-dashed-wrapped {border: 1px dashed gray;margin: 0 0.4em 0.5em 0.4em;box-sizing: border-box;padding-bottom: 0.4em;background-color: white;}#sk-container-id-2 div.sk-label label {font-family: monospace;font-weight: bold;display: inline-block;line-height: 1.2em;}#sk-container-id-2 div.sk-label-container {text-align: center;}#sk-container-id-2 div.sk-container {/* jupyter's `normalize.less` sets `[hidden] { display: none; }` but bootstrap.min.css set `[hidden] { display: none !important; }` so we also need the `!important` here to be able to override the default hidden behavior on the sphinx rendered scikit-learn.org. See: https://github.com/scikit-learn/scikit-learn/issues/21755 */display: inline-block !important;position: relative;}#sk-container-id-2 div.sk-text-repr-fallback {display: none;}</style><div id=\"sk-container-id-2\" class=\"sk-top-container\"><div class=\"sk-text-repr-fallback\"><pre>Pipeline(steps=[(&#x27;loading_features&#x27;,\n",
       "                 &lt;EventStream.evaluation.FT_task_baseline.ESDFlatFeatureLoader object at 0x7f993fcb74c0&gt;),\n",
       "                (&#x27;scaling&#x27;, StandardScaler()),\n",
       "                (&#x27;imputation&#x27;,\n",
       "                 SimpleImputer(fill_value=0, strategy=&#x27;constant&#x27;)),\n",
       "                (&#x27;reduce_dim&#x27;, PCA(n_components=30)),\n",
       "                (&#x27;model&#x27;, RandomForestClassifier())])</pre><b>In a Jupyter environment, please rerun this cell to show the HTML representation or trust the notebook. <br />On GitHub, the HTML representation is unable to render, please try loading this page with nbviewer.org.</b></div><div class=\"sk-container\" hidden><div class=\"sk-item sk-dashed-wrapped\"><div class=\"sk-label-container\"><div class=\"sk-label sk-toggleable\"><input class=\"sk-toggleable__control sk-hidden--visually\" id=\"sk-estimator-id-8\" type=\"checkbox\" ><label for=\"sk-estimator-id-8\" class=\"sk-toggleable__label sk-toggleable__label-arrow\">Pipeline</label><div class=\"sk-toggleable__content\"><pre>Pipeline(steps=[(&#x27;loading_features&#x27;,\n",
       "                 &lt;EventStream.evaluation.FT_task_baseline.ESDFlatFeatureLoader object at 0x7f993fcb74c0&gt;),\n",
       "                (&#x27;scaling&#x27;, StandardScaler()),\n",
       "                (&#x27;imputation&#x27;,\n",
       "                 SimpleImputer(fill_value=0, strategy=&#x27;constant&#x27;)),\n",
       "                (&#x27;reduce_dim&#x27;, PCA(n_components=30)),\n",
       "                (&#x27;model&#x27;, RandomForestClassifier())])</pre></div></div></div><div class=\"sk-serial\"><div class=\"sk-item\"><div class=\"sk-estimator sk-toggleable\"><input class=\"sk-toggleable__control sk-hidden--visually\" id=\"sk-estimator-id-9\" type=\"checkbox\" ><label for=\"sk-estimator-id-9\" class=\"sk-toggleable__label sk-toggleable__label-arrow\">ESDFlatFeatureLoader</label><div class=\"sk-toggleable__content\"><pre>&lt;EventStream.evaluation.FT_task_baseline.ESDFlatFeatureLoader object at 0x7f993fcb74c0&gt;</pre></div></div></div><div class=\"sk-item\"><div class=\"sk-estimator sk-toggleable\"><input class=\"sk-toggleable__control sk-hidden--visually\" id=\"sk-estimator-id-10\" type=\"checkbox\" ><label for=\"sk-estimator-id-10\" class=\"sk-toggleable__label sk-toggleable__label-arrow\">StandardScaler</label><div class=\"sk-toggleable__content\"><pre>StandardScaler()</pre></div></div></div><div class=\"sk-item\"><div class=\"sk-estimator sk-toggleable\"><input class=\"sk-toggleable__control sk-hidden--visually\" id=\"sk-estimator-id-11\" type=\"checkbox\" ><label for=\"sk-estimator-id-11\" class=\"sk-toggleable__label sk-toggleable__label-arrow\">SimpleImputer</label><div class=\"sk-toggleable__content\"><pre>SimpleImputer(fill_value=0, strategy=&#x27;constant&#x27;)</pre></div></div></div><div class=\"sk-item\"><div class=\"sk-estimator sk-toggleable\"><input class=\"sk-toggleable__control sk-hidden--visually\" id=\"sk-estimator-id-12\" type=\"checkbox\" ><label for=\"sk-estimator-id-12\" class=\"sk-toggleable__label sk-toggleable__label-arrow\">PCA</label><div class=\"sk-toggleable__content\"><pre>PCA(n_components=30)</pre></div></div></div><div class=\"sk-item\"><div class=\"sk-estimator sk-toggleable\"><input class=\"sk-toggleable__control sk-hidden--visually\" id=\"sk-estimator-id-13\" type=\"checkbox\" ><label for=\"sk-estimator-id-13\" class=\"sk-toggleable__label sk-toggleable__label-arrow\">RandomForestClassifier</label><div class=\"sk-toggleable__content\"><pre>RandomForestClassifier()</pre></div></div></div></div></div></div></div>"
      ],
      "text/plain": [
       "Pipeline(steps=[('loading_features',\n",
       "                 <EventStream.evaluation.FT_task_baseline.ESDFlatFeatureLoader object at 0x7f993fcb74c0>),\n",
       "                ('scaling', StandardScaler()),\n",
       "                ('imputation',\n",
       "                 SimpleImputer(fill_value=0, strategy='constant')),\n",
       "                ('reduce_dim', PCA(n_components=30)),\n",
       "                ('model', RandomForestClassifier())])"
      ]
     },
     "execution_count": 10,
     "metadata": {},
     "output_type": "execute_result"
    }
   ],
   "source": [
    "out.best_estimator_"
   ]
  },
  {
   "cell_type": "code",
   "execution_count": null,
   "id": "9bfcbcf2",
   "metadata": {},
   "outputs": [],
   "source": []
  }
 ],
 "metadata": {
  "kernelspec": {
   "display_name": "Python 3 (ipykernel)",
   "language": "python",
   "name": "python3"
  },
  "language_info": {
   "codemirror_mode": {
    "name": "ipython",
    "version": 3
   },
   "file_extension": ".py",
   "mimetype": "text/x-python",
   "name": "python",
   "nbconvert_exporter": "python",
   "pygments_lexer": "ipython3",
   "version": "3.10.9"
  }
 },
 "nbformat": 4,
 "nbformat_minor": 5
}
