{
 "cells": [
  {
   "cell_type": "markdown",
   "id": "22f2a71f",
   "metadata": {},
   "source": [
    "# Flat Representations Tutorial"
   ]
  },
  {
   "cell_type": "code",
   "execution_count": 1,
   "id": "a8c74a81",
   "metadata": {},
   "outputs": [],
   "source": [
    "import sys\n",
    "\n",
    "sys.path.append(\"../\")"
   ]
  },
  {
   "cell_type": "code",
   "execution_count": 2,
   "id": "cd4c4571",
   "metadata": {},
   "outputs": [],
   "source": [
    "# Imports\n",
    "import os\n",
    "from pathlib import Path\n",
    "\n",
    "from EventStream.data.dataset_polars import Dataset\n",
    "from EventStream.evaluation.FT_task_baseline import *"
   ]
  },
  {
   "cell_type": "code",
   "execution_count": 3,
   "id": "050eb52f",
   "metadata": {},
   "outputs": [],
   "source": [
    "dataset_dir = Path(os.getcwd()) / \"processed/sample\""
   ]
  },
  {
   "cell_type": "markdown",
   "id": "5c6737b9",
   "metadata": {},
   "source": [
    "With the dataset loaded, we can ask about the three dataframes we inspected above..."
   ]
  },
  {
   "cell_type": "code",
   "execution_count": 4,
   "id": "942e8049",
   "metadata": {},
   "outputs": [],
   "source": [
    "ESD = Dataset.load(dataset_dir)"
   ]
  },
  {
   "cell_type": "code",
   "execution_count": 5,
   "id": "993583ec",
   "metadata": {},
   "outputs": [
    {
     "data": {
      "application/vnd.jupyter.widget-view+json": {
       "model_id": "8845c2bf2186470ca6384c36b115b600",
       "version_major": 2,
       "version_minor": 0
      },
      "text/plain": [
       "Flattening Splits:   0%|          | 0/3 [00:00<?, ?it/s]"
      ]
     },
     "metadata": {},
     "output_type": "display_data"
    },
    {
     "data": {
      "application/vnd.jupyter.widget-view+json": {
       "model_id": "",
       "version_major": 2,
       "version_minor": 0
      },
      "text/plain": [
       "Subject chunks:   0%|          | 0/1 [00:00<?, ?it/s]"
      ]
     },
     "metadata": {},
     "output_type": "display_data"
    },
    {
     "data": {
      "application/vnd.jupyter.widget-view+json": {
       "model_id": "",
       "version_major": 2,
       "version_minor": 0
      },
      "text/plain": [
       "Subject chunks:   0%|          | 0/1 [00:00<?, ?it/s]"
      ]
     },
     "metadata": {},
     "output_type": "display_data"
    },
    {
     "data": {
      "application/vnd.jupyter.widget-view+json": {
       "model_id": "",
       "version_major": 2,
       "version_minor": 0
      },
      "text/plain": [
       "Subject chunks:   0%|          | 0/1 [00:00<?, ?it/s]"
      ]
     },
     "metadata": {},
     "output_type": "display_data"
    }
   ],
   "source": [
    "ESD.cache_flat_representation(\n",
    "    subjects_per_output_file=None,\n",
    "    feature_inclusion_frequency=None,\n",
    "    do_overwrite=False,\n",
    "    do_update=True,\n",
    ")"
   ]
  },
  {
   "cell_type": "code",
   "execution_count": 6,
   "id": "7ba36281",
   "metadata": {},
   "outputs": [],
   "source": [
    "flat_reps = load_flat_rep(ESD, window_sizes=['7d', '30d', 'FULL'])"
   ]
  },
  {
   "cell_type": "code",
   "execution_count": 7,
   "id": "20454001",
   "metadata": {},
   "outputs": [
    {
     "data": {
      "text/html": [
       "<div><style>\n",
       ".dataframe > thead > tr > th,\n",
       ".dataframe > tbody > tr > td {\n",
       "  text-align: right;\n",
       "}\n",
       "</style>\n",
       "<small>shape: (5, 241)</small><table border=\"1\" class=\"dataframe\"><thead><tr><th>subject_id</th><th>timestamp</th><th>static/eye_color/BLUE</th><th>static/eye_color/BROWN</th><th>static/eye_color/GREEN</th><th>static/eye_color/HAZEL</th><th>static/eye_color/UNK</th><th>7d/HR/HR/sum_sqd</th><th>7d/HR/HR/min</th><th>7d/HR/HR/max</th><th>7d/temp/temp/sum_sqd</th><th>7d/temp/temp/min</th><th>7d/temp/temp/max</th><th>7d/lab_name/GCS__EQ_1/sum_sqd</th><th>7d/lab_name/GCS__EQ_10/sum_sqd</th><th>7d/lab_name/GCS__EQ_11/sum_sqd</th><th>7d/lab_name/GCS__EQ_12/sum_sqd</th><th>7d/lab_name/GCS__EQ_13/sum_sqd</th><th>7d/lab_name/GCS__EQ_14/sum_sqd</th><th>7d/lab_name/GCS__EQ_15/sum_sqd</th><th>7d/lab_name/GCS__EQ_2/sum_sqd</th><th>7d/lab_name/GCS__EQ_3/sum_sqd</th><th>7d/lab_name/GCS__EQ_4/sum_sqd</th><th>7d/lab_name/GCS__EQ_5/sum_sqd</th><th>7d/lab_name/GCS__EQ_6/sum_sqd</th><th>7d/lab_name/GCS__EQ_7/sum_sqd</th><th>7d/lab_name/GCS__EQ_8/sum_sqd</th><th>7d/lab_name/GCS__EQ_9/sum_sqd</th><th>7d/lab_name/SOFA__EQ_1/sum_sqd</th><th>7d/lab_name/SOFA__EQ_2/sum_sqd</th><th>7d/lab_name/SOFA__EQ_3/sum_sqd</th><th>7d/lab_name/SOFA__EQ_4/sum_sqd</th><th>7d/lab_name/SpO2/sum_sqd</th><th>7d/lab_name/UNK/sum_sqd</th><th>7d/lab_name/creatinine/sum_sqd</th><th>7d/lab_name/potassium/sum_sqd</th><th>7d/lab_name/GCS__EQ_1/min</th><th>&hellip;</th><th>FULL/lab_name/GCS__EQ_7/min</th><th>FULL/lab_name/GCS__EQ_8/min</th><th>FULL/lab_name/GCS__EQ_9/min</th><th>FULL/lab_name/SOFA__EQ_1/min</th><th>FULL/lab_name/SOFA__EQ_2/min</th><th>FULL/lab_name/SOFA__EQ_3/min</th><th>FULL/lab_name/SOFA__EQ_4/min</th><th>FULL/lab_name/SpO2/min</th><th>FULL/lab_name/UNK/min</th><th>FULL/lab_name/creatinine/min</th><th>FULL/lab_name/potassium/min</th><th>FULL/lab_name/GCS__EQ_1/max</th><th>FULL/lab_name/GCS__EQ_10/max</th><th>FULL/lab_name/GCS__EQ_11/max</th><th>FULL/lab_name/GCS__EQ_12/max</th><th>FULL/lab_name/GCS__EQ_13/max</th><th>FULL/lab_name/GCS__EQ_14/max</th><th>FULL/lab_name/GCS__EQ_15/max</th><th>FULL/lab_name/GCS__EQ_2/max</th><th>FULL/lab_name/GCS__EQ_3/max</th><th>FULL/lab_name/GCS__EQ_4/max</th><th>FULL/lab_name/GCS__EQ_5/max</th><th>FULL/lab_name/GCS__EQ_6/max</th><th>FULL/lab_name/GCS__EQ_7/max</th><th>FULL/lab_name/GCS__EQ_8/max</th><th>FULL/lab_name/GCS__EQ_9/max</th><th>FULL/lab_name/SOFA__EQ_1/max</th><th>FULL/lab_name/SOFA__EQ_2/max</th><th>FULL/lab_name/SOFA__EQ_3/max</th><th>FULL/lab_name/SOFA__EQ_4/max</th><th>FULL/lab_name/SpO2/max</th><th>FULL/lab_name/UNK/max</th><th>FULL/lab_name/creatinine/max</th><th>FULL/lab_name/potassium/max</th><th>FULL/age/age/sum_sqd</th><th>FULL/age/age/min</th><th>FULL/age/age/max</th></tr><tr><td>u8</td><td>datetime[μs]</td><td>bool</td><td>bool</td><td>bool</td><td>bool</td><td>bool</td><td>f32</td><td>f32</td><td>f32</td><td>f32</td><td>f32</td><td>f32</td><td>f32</td><td>f32</td><td>f32</td><td>f32</td><td>f32</td><td>f32</td><td>f32</td><td>f32</td><td>f32</td><td>f32</td><td>f32</td><td>f32</td><td>f32</td><td>f32</td><td>f32</td><td>f32</td><td>f32</td><td>f32</td><td>f32</td><td>f32</td><td>f32</td><td>f32</td><td>f32</td><td>f32</td><td>&hellip;</td><td>f32</td><td>f32</td><td>f32</td><td>f32</td><td>f32</td><td>f32</td><td>f32</td><td>f32</td><td>f32</td><td>f32</td><td>f32</td><td>f32</td><td>f32</td><td>f32</td><td>f32</td><td>f32</td><td>f32</td><td>f32</td><td>f32</td><td>f32</td><td>f32</td><td>f32</td><td>f32</td><td>f32</td><td>f32</td><td>f32</td><td>f32</td><td>f32</td><td>f32</td><td>f32</td><td>f32</td><td>f32</td><td>f32</td><td>f32</td><td>f64</td><td>f64</td><td>f64</td></tr></thead><tbody><tr><td>0</td><td>2010-06-24 13:23:00</td><td>null</td><td>null</td><td>true</td><td>null</td><td>null</td><td>3.742068</td><td>-1.128285</td><td>-0.840872</td><td>4.552544</td><td>0.926212</td><td>1.246791</td><td>null</td><td>null</td><td>null</td><td>null</td><td>null</td><td>null</td><td>null</td><td>null</td><td>null</td><td>null</td><td>null</td><td>null</td><td>null</td><td>null</td><td>null</td><td>null</td><td>null</td><td>null</td><td>null</td><td>1185.101807</td><td>null</td><td>null</td><td>null</td><td>null</td><td>&hellip;</td><td>null</td><td>null</td><td>null</td><td>null</td><td>null</td><td>null</td><td>null</td><td>14.237596</td><td>null</td><td>null</td><td>null</td><td>null</td><td>null</td><td>null</td><td>null</td><td>null</td><td>null</td><td>null</td><td>null</td><td>null</td><td>null</td><td>null</td><td>null</td><td>null</td><td>null</td><td>null</td><td>null</td><td>null</td><td>null</td><td>null</td><td>16.671087</td><td>null</td><td>null</td><td>null</td><td>0.311672</td><td>-0.558276</td><td>-0.558276</td></tr><tr><td>0</td><td>2010-06-24 14:23:00</td><td>null</td><td>null</td><td>true</td><td>null</td><td>null</td><td>5.550961</td><td>-1.344951</td><td>-0.840872</td><td>5.223883</td><td>0.819353</td><td>1.246791</td><td>null</td><td>null</td><td>null</td><td>null</td><td>null</td><td>null</td><td>null</td><td>null</td><td>null</td><td>null</td><td>null</td><td>null</td><td>null</td><td>null</td><td>null</td><td>null</td><td>null</td><td>null</td><td>null</td><td>1387.810913</td><td>null</td><td>null</td><td>null</td><td>null</td><td>&hellip;</td><td>null</td><td>null</td><td>null</td><td>null</td><td>null</td><td>null</td><td>null</td><td>14.237596</td><td>null</td><td>null</td><td>null</td><td>null</td><td>null</td><td>null</td><td>null</td><td>null</td><td>null</td><td>null</td><td>null</td><td>null</td><td>null</td><td>null</td><td>null</td><td>null</td><td>null</td><td>null</td><td>null</td><td>null</td><td>null</td><td>null</td><td>16.671087</td><td>null</td><td>null</td><td>null</td><td>0.623315</td><td>-0.558276</td><td>-0.55825</td></tr><tr><td>0</td><td>2010-06-24 15:23:00</td><td>null</td><td>null</td><td>true</td><td>null</td><td>null</td><td>8.731184</td><td>-1.344951</td><td>-0.840872</td><td>6.036453</td><td>0.552203</td><td>1.246791</td><td>null</td><td>null</td><td>null</td><td>null</td><td>null</td><td>null</td><td>null</td><td>null</td><td>null</td><td>null</td><td>null</td><td>null</td><td>null</td><td>null</td><td>null</td><td>null</td><td>null</td><td>null</td><td>null</td><td>2109.216309</td><td>null</td><td>null</td><td>null</td><td>null</td><td>&hellip;</td><td>null</td><td>null</td><td>null</td><td>null</td><td>null</td><td>null</td><td>null</td><td>13.020849</td><td>null</td><td>null</td><td>null</td><td>null</td><td>null</td><td>null</td><td>null</td><td>null</td><td>null</td><td>null</td><td>null</td><td>null</td><td>null</td><td>null</td><td>null</td><td>null</td><td>null</td><td>null</td><td>null</td><td>null</td><td>null</td><td>null</td><td>16.671087</td><td>null</td><td>null</td><td>null</td><td>0.934929</td><td>-0.558276</td><td>-0.558224</td></tr><tr><td>0</td><td>2010-06-24 16:23:00</td><td>null</td><td>null</td><td>true</td><td>null</td><td>null</td><td>10.731413</td><td>-1.344951</td><td>-0.840872</td><td>7.130729</td><td>0.552203</td><td>1.246791</td><td>null</td><td>null</td><td>null</td><td>null</td><td>null</td><td>null</td><td>null</td><td>null</td><td>null</td><td>null</td><td>null</td><td>null</td><td>null</td><td>null</td><td>null</td><td>null</td><td>null</td><td>null</td><td>null</td><td>3033.330566</td><td>null</td><td>null</td><td>null</td><td>null</td><td>&hellip;</td><td>null</td><td>null</td><td>null</td><td>null</td><td>null</td><td>null</td><td>null</td><td>13.020849</td><td>null</td><td>null</td><td>null</td><td>null</td><td>null</td><td>null</td><td>null</td><td>null</td><td>null</td><td>null</td><td>null</td><td>null</td><td>null</td><td>null</td><td>null</td><td>null</td><td>null</td><td>null</td><td>null</td><td>null</td><td>null</td><td>null</td><td>16.671087</td><td>null</td><td>null</td><td>null</td><td>1.246515</td><td>-0.558276</td><td>-0.558199</td></tr><tr><td>0</td><td>2010-06-24 17:23:00</td><td>null</td><td>null</td><td>true</td><td>null</td><td>null</td><td>14.93844</td><td>-1.344951</td><td>-0.840872</td><td>8.473785</td><td>0.552203</td><td>1.246791</td><td>null</td><td>null</td><td>null</td><td>null</td><td>null</td><td>null</td><td>null</td><td>null</td><td>null</td><td>null</td><td>null</td><td>null</td><td>null</td><td>null</td><td>null</td><td>null</td><td>null</td><td>null</td><td>null</td><td>3744.009277</td><td>null</td><td>null</td><td>null</td><td>null</td><td>&hellip;</td><td>null</td><td>null</td><td>null</td><td>null</td><td>null</td><td>null</td><td>null</td><td>13.020849</td><td>null</td><td>null</td><td>null</td><td>null</td><td>null</td><td>null</td><td>null</td><td>null</td><td>null</td><td>null</td><td>null</td><td>null</td><td>null</td><td>null</td><td>null</td><td>null</td><td>null</td><td>null</td><td>null</td><td>null</td><td>null</td><td>null</td><td>16.671087</td><td>null</td><td>null</td><td>null</td><td>1.558073</td><td>-0.558276</td><td>-0.558173</td></tr></tbody></table></div>"
      ],
      "text/plain": [
       "shape: (5, 241)\n",
       "┌──────────┬─────┬────────────┬────────────┬───┬────────────┬────────────┬────────────┬────────────┐\n",
       "│ subject_ ┆ tim ┆ static/eye ┆ static/eye ┆ … ┆ FULL/lab_n ┆ FULL/age/a ┆ FULL/age/a ┆ FULL/age/a │\n",
       "│ id       ┆ est ┆ _color/BLU ┆ _color/BRO ┆   ┆ ame/potass ┆ ge/sum_sqd ┆ ge/min     ┆ ge/max     │\n",
       "│ ---      ┆ amp ┆ E          ┆ WN         ┆   ┆ ium/max    ┆ ---        ┆ ---        ┆ ---        │\n",
       "│ u8       ┆ --- ┆ ---        ┆ ---        ┆   ┆ ---        ┆ f64        ┆ f64        ┆ f64        │\n",
       "│          ┆ dat ┆ bool       ┆ bool       ┆   ┆ f32        ┆            ┆            ┆            │\n",
       "│          ┆ eti ┆            ┆            ┆   ┆            ┆            ┆            ┆            │\n",
       "│          ┆ me[ ┆            ┆            ┆   ┆            ┆            ┆            ┆            │\n",
       "│          ┆ μs] ┆            ┆            ┆   ┆            ┆            ┆            ┆            │\n",
       "╞══════════╪═════╪════════════╪════════════╪═══╪════════════╪════════════╪════════════╪════════════╡\n",
       "│ 0        ┆ 201 ┆ null       ┆ null       ┆ … ┆ null       ┆ 0.311672   ┆ -0.558276  ┆ -0.558276  │\n",
       "│          ┆ 0-0 ┆            ┆            ┆   ┆            ┆            ┆            ┆            │\n",
       "│          ┆ 6-2 ┆            ┆            ┆   ┆            ┆            ┆            ┆            │\n",
       "│          ┆ 4   ┆            ┆            ┆   ┆            ┆            ┆            ┆            │\n",
       "│          ┆ 13: ┆            ┆            ┆   ┆            ┆            ┆            ┆            │\n",
       "│          ┆ 23: ┆            ┆            ┆   ┆            ┆            ┆            ┆            │\n",
       "│          ┆ 00  ┆            ┆            ┆   ┆            ┆            ┆            ┆            │\n",
       "│ 0        ┆ 201 ┆ null       ┆ null       ┆ … ┆ null       ┆ 0.623315   ┆ -0.558276  ┆ -0.55825   │\n",
       "│          ┆ 0-0 ┆            ┆            ┆   ┆            ┆            ┆            ┆            │\n",
       "│          ┆ 6-2 ┆            ┆            ┆   ┆            ┆            ┆            ┆            │\n",
       "│          ┆ 4   ┆            ┆            ┆   ┆            ┆            ┆            ┆            │\n",
       "│          ┆ 14: ┆            ┆            ┆   ┆            ┆            ┆            ┆            │\n",
       "│          ┆ 23: ┆            ┆            ┆   ┆            ┆            ┆            ┆            │\n",
       "│          ┆ 00  ┆            ┆            ┆   ┆            ┆            ┆            ┆            │\n",
       "│ 0        ┆ 201 ┆ null       ┆ null       ┆ … ┆ null       ┆ 0.934929   ┆ -0.558276  ┆ -0.558224  │\n",
       "│          ┆ 0-0 ┆            ┆            ┆   ┆            ┆            ┆            ┆            │\n",
       "│          ┆ 6-2 ┆            ┆            ┆   ┆            ┆            ┆            ┆            │\n",
       "│          ┆ 4   ┆            ┆            ┆   ┆            ┆            ┆            ┆            │\n",
       "│          ┆ 15: ┆            ┆            ┆   ┆            ┆            ┆            ┆            │\n",
       "│          ┆ 23: ┆            ┆            ┆   ┆            ┆            ┆            ┆            │\n",
       "│          ┆ 00  ┆            ┆            ┆   ┆            ┆            ┆            ┆            │\n",
       "│ 0        ┆ 201 ┆ null       ┆ null       ┆ … ┆ null       ┆ 1.246515   ┆ -0.558276  ┆ -0.558199  │\n",
       "│          ┆ 0-0 ┆            ┆            ┆   ┆            ┆            ┆            ┆            │\n",
       "│          ┆ 6-2 ┆            ┆            ┆   ┆            ┆            ┆            ┆            │\n",
       "│          ┆ 4   ┆            ┆            ┆   ┆            ┆            ┆            ┆            │\n",
       "│          ┆ 16: ┆            ┆            ┆   ┆            ┆            ┆            ┆            │\n",
       "│          ┆ 23: ┆            ┆            ┆   ┆            ┆            ┆            ┆            │\n",
       "│          ┆ 00  ┆            ┆            ┆   ┆            ┆            ┆            ┆            │\n",
       "│ 0        ┆ 201 ┆ null       ┆ null       ┆ … ┆ null       ┆ 1.558073   ┆ -0.558276  ┆ -0.558173  │\n",
       "│          ┆ 0-0 ┆            ┆            ┆   ┆            ┆            ┆            ┆            │\n",
       "│          ┆ 6-2 ┆            ┆            ┆   ┆            ┆            ┆            ┆            │\n",
       "│          ┆ 4   ┆            ┆            ┆   ┆            ┆            ┆            ┆            │\n",
       "│          ┆ 17: ┆            ┆            ┆   ┆            ┆            ┆            ┆            │\n",
       "│          ┆ 23: ┆            ┆            ┆   ┆            ┆            ┆            ┆            │\n",
       "│          ┆ 00  ┆            ┆            ┆   ┆            ┆            ┆            ┆            │\n",
       "└──────────┴─────┴────────────┴────────────┴───┴────────────┴────────────┴────────────┴────────────┘"
      ]
     },
     "execution_count": 7,
     "metadata": {},
     "output_type": "execute_result"
    }
   ],
   "source": [
    "flat_reps['train'].head().collect()"
   ]
  },
  {
   "cell_type": "code",
   "execution_count": 8,
   "id": "05aec8a2",
   "metadata": {},
   "outputs": [
    {
     "name": "stdout",
     "output_type": "stream",
     "text": [
      "Loading events from /home/mmd/Projects/EventStreamGPT/sample_data/processed/sample/events_df.parquet...\n"
     ]
    }
   ],
   "source": [
    "task_df = pl.DataFrame({\n",
    "    'subject_id': list(range(len(ESD.subject_ids))),\n",
    "    'start_time': [None for _ in range(len(ESD.subject_ids))],\n",
    "    'end_time': (\n",
    "        ESD.events_df.groupby('subject_id')\n",
    "        .agg(pl.col('timestamp').sample().first())['timestamp'].to_list()\n",
    "    ),\n",
    "    'label': np.random.choice([0, 1, 2], size=len(ESD.subject_ids))\n",
    "}).with_columns(pl.col('start_time').cast(pl.Datetime)).lazy()"
   ]
  },
  {
   "cell_type": "code",
   "execution_count": 9,
   "id": "06551700",
   "metadata": {},
   "outputs": [],
   "source": [
    "from sklearn.ensemble import RandomForestClassifier"
   ]
  },
  {
   "cell_type": "code",
   "execution_count": 10,
   "id": "16ab541a",
   "metadata": {},
   "outputs": [],
   "source": [
    "model_cls, model_params = construct_pipeline(\n",
    "    ESD,\n",
    "    model_cls = RandomForestClassifier,\n",
    "    model_param_distributions={'min_samples_split': [2, 10, 100]},\n",
    ")"
   ]
  },
  {
   "cell_type": "code",
   "execution_count": null,
   "id": "c90165c5",
   "metadata": {
    "scrolled": false
   },
   "outputs": [
    {
     "data": {
      "application/vnd.jupyter.widget-view+json": {
       "model_id": "2f703bc80aff4d1c91367887a21d2799",
       "version_major": 2,
       "version_minor": 0
      },
      "text/plain": [
       "Flattening Splits:   0%|          | 0/3 [00:00<?, ?it/s]"
      ]
     },
     "metadata": {},
     "output_type": "display_data"
    },
    {
     "data": {
      "application/vnd.jupyter.widget-view+json": {
       "model_id": "",
       "version_major": 2,
       "version_minor": 0
      },
      "text/plain": [
       "Subject chunks:   0%|          | 0/1 [00:00<?, ?it/s]"
      ]
     },
     "metadata": {},
     "output_type": "display_data"
    },
    {
     "data": {
      "application/vnd.jupyter.widget-view+json": {
       "model_id": "",
       "version_major": 2,
       "version_minor": 0
      },
      "text/plain": [
       "Subject chunks:   0%|          | 0/1 [00:00<?, ?it/s]"
      ]
     },
     "metadata": {},
     "output_type": "display_data"
    },
    {
     "data": {
      "application/vnd.jupyter.widget-view+json": {
       "model_id": "",
       "version_major": 2,
       "version_minor": 0
      },
      "text/plain": [
       "Subject chunks:   0%|          | 0/1 [00:00<?, ?it/s]"
      ]
     },
     "metadata": {},
     "output_type": "display_data"
    },
    {
     "data": {
      "application/vnd.jupyter.widget-view+json": {
       "model_id": "a1bdf45477e14b75b7fa6024bdf01961",
       "version_major": 2,
       "version_minor": 0
      },
      "text/plain": [
       "History window sizes:   0%|          | 0/13 [00:00<?, ?it/s]"
      ]
     },
     "metadata": {},
     "output_type": "display_data"
    },
    {
     "data": {
      "application/vnd.jupyter.widget-view+json": {
       "model_id": "",
       "version_major": 2,
       "version_minor": 0
      },
      "text/plain": [
       "Windowing Splits:   0%|          | 0/3 [00:00<?, ?it/s]"
      ]
     },
     "metadata": {},
     "output_type": "display_data"
    },
    {
     "data": {
      "application/vnd.jupyter.widget-view+json": {
       "model_id": "",
       "version_major": 2,
       "version_minor": 0
      },
      "text/plain": [
       "Subject chunks:   0%|          | 0/1 [00:00<?, ?it/s]"
      ]
     },
     "metadata": {},
     "output_type": "display_data"
    },
    {
     "data": {
      "application/vnd.jupyter.widget-view+json": {
       "model_id": "",
       "version_major": 2,
       "version_minor": 0
      },
      "text/plain": [
       "Subject chunks:   0%|          | 0/1 [00:00<?, ?it/s]"
      ]
     },
     "metadata": {},
     "output_type": "display_data"
    },
    {
     "data": {
      "application/vnd.jupyter.widget-view+json": {
       "model_id": "",
       "version_major": 2,
       "version_minor": 0
      },
      "text/plain": [
       "Subject chunks:   0%|          | 0/1 [00:00<?, ?it/s]"
      ]
     },
     "metadata": {},
     "output_type": "display_data"
    },
    {
     "data": {
      "application/vnd.jupyter.widget-view+json": {
       "model_id": "",
       "version_major": 2,
       "version_minor": 0
      },
      "text/plain": [
       "Windowing Splits:   0%|          | 0/3 [00:00<?, ?it/s]"
      ]
     },
     "metadata": {},
     "output_type": "display_data"
    },
    {
     "data": {
      "application/vnd.jupyter.widget-view+json": {
       "model_id": "",
       "version_major": 2,
       "version_minor": 0
      },
      "text/plain": [
       "Subject chunks:   0%|          | 0/1 [00:00<?, ?it/s]"
      ]
     },
     "metadata": {},
     "output_type": "display_data"
    },
    {
     "data": {
      "application/vnd.jupyter.widget-view+json": {
       "model_id": "",
       "version_major": 2,
       "version_minor": 0
      },
      "text/plain": [
       "Subject chunks:   0%|          | 0/1 [00:00<?, ?it/s]"
      ]
     },
     "metadata": {},
     "output_type": "display_data"
    },
    {
     "data": {
      "application/vnd.jupyter.widget-view+json": {
       "model_id": "",
       "version_major": 2,
       "version_minor": 0
      },
      "text/plain": [
       "Subject chunks:   0%|          | 0/1 [00:00<?, ?it/s]"
      ]
     },
     "metadata": {},
     "output_type": "display_data"
    },
    {
     "data": {
      "application/vnd.jupyter.widget-view+json": {
       "model_id": "",
       "version_major": 2,
       "version_minor": 0
      },
      "text/plain": [
       "Windowing Splits:   0%|          | 0/3 [00:00<?, ?it/s]"
      ]
     },
     "metadata": {},
     "output_type": "display_data"
    },
    {
     "data": {
      "application/vnd.jupyter.widget-view+json": {
       "model_id": "",
       "version_major": 2,
       "version_minor": 0
      },
      "text/plain": [
       "Subject chunks:   0%|          | 0/1 [00:00<?, ?it/s]"
      ]
     },
     "metadata": {},
     "output_type": "display_data"
    },
    {
     "data": {
      "application/vnd.jupyter.widget-view+json": {
       "model_id": "",
       "version_major": 2,
       "version_minor": 0
      },
      "text/plain": [
       "Subject chunks:   0%|          | 0/1 [00:00<?, ?it/s]"
      ]
     },
     "metadata": {},
     "output_type": "display_data"
    },
    {
     "data": {
      "application/vnd.jupyter.widget-view+json": {
       "model_id": "",
       "version_major": 2,
       "version_minor": 0
      },
      "text/plain": [
       "Subject chunks:   0%|          | 0/1 [00:00<?, ?it/s]"
      ]
     },
     "metadata": {},
     "output_type": "display_data"
    },
    {
     "data": {
      "application/vnd.jupyter.widget-view+json": {
       "model_id": "",
       "version_major": 2,
       "version_minor": 0
      },
      "text/plain": [
       "Windowing Splits:   0%|          | 0/3 [00:00<?, ?it/s]"
      ]
     },
     "metadata": {},
     "output_type": "display_data"
    },
    {
     "data": {
      "application/vnd.jupyter.widget-view+json": {
       "model_id": "",
       "version_major": 2,
       "version_minor": 0
      },
      "text/plain": [
       "Subject chunks:   0%|          | 0/1 [00:00<?, ?it/s]"
      ]
     },
     "metadata": {},
     "output_type": "display_data"
    },
    {
     "data": {
      "application/vnd.jupyter.widget-view+json": {
       "model_id": "",
       "version_major": 2,
       "version_minor": 0
      },
      "text/plain": [
       "Subject chunks:   0%|          | 0/1 [00:00<?, ?it/s]"
      ]
     },
     "metadata": {},
     "output_type": "display_data"
    },
    {
     "data": {
      "application/vnd.jupyter.widget-view+json": {
       "model_id": "",
       "version_major": 2,
       "version_minor": 0
      },
      "text/plain": [
       "Subject chunks:   0%|          | 0/1 [00:00<?, ?it/s]"
      ]
     },
     "metadata": {},
     "output_type": "display_data"
    },
    {
     "data": {
      "application/vnd.jupyter.widget-view+json": {
       "model_id": "",
       "version_major": 2,
       "version_minor": 0
      },
      "text/plain": [
       "Windowing Splits:   0%|          | 0/3 [00:00<?, ?it/s]"
      ]
     },
     "metadata": {},
     "output_type": "display_data"
    },
    {
     "data": {
      "application/vnd.jupyter.widget-view+json": {
       "model_id": "",
       "version_major": 2,
       "version_minor": 0
      },
      "text/plain": [
       "Subject chunks:   0%|          | 0/1 [00:00<?, ?it/s]"
      ]
     },
     "metadata": {},
     "output_type": "display_data"
    },
    {
     "data": {
      "application/vnd.jupyter.widget-view+json": {
       "model_id": "",
       "version_major": 2,
       "version_minor": 0
      },
      "text/plain": [
       "Subject chunks:   0%|          | 0/1 [00:00<?, ?it/s]"
      ]
     },
     "metadata": {},
     "output_type": "display_data"
    },
    {
     "data": {
      "application/vnd.jupyter.widget-view+json": {
       "model_id": "",
       "version_major": 2,
       "version_minor": 0
      },
      "text/plain": [
       "Subject chunks:   0%|          | 0/1 [00:00<?, ?it/s]"
      ]
     },
     "metadata": {},
     "output_type": "display_data"
    },
    {
     "data": {
      "application/vnd.jupyter.widget-view+json": {
       "model_id": "",
       "version_major": 2,
       "version_minor": 0
      },
      "text/plain": [
       "Windowing Splits:   0%|          | 0/3 [00:00<?, ?it/s]"
      ]
     },
     "metadata": {},
     "output_type": "display_data"
    },
    {
     "data": {
      "application/vnd.jupyter.widget-view+json": {
       "model_id": "",
       "version_major": 2,
       "version_minor": 0
      },
      "text/plain": [
       "Subject chunks:   0%|          | 0/1 [00:00<?, ?it/s]"
      ]
     },
     "metadata": {},
     "output_type": "display_data"
    },
    {
     "data": {
      "application/vnd.jupyter.widget-view+json": {
       "model_id": "",
       "version_major": 2,
       "version_minor": 0
      },
      "text/plain": [
       "Subject chunks:   0%|          | 0/1 [00:00<?, ?it/s]"
      ]
     },
     "metadata": {},
     "output_type": "display_data"
    },
    {
     "data": {
      "application/vnd.jupyter.widget-view+json": {
       "model_id": "",
       "version_major": 2,
       "version_minor": 0
      },
      "text/plain": [
       "Subject chunks:   0%|          | 0/1 [00:00<?, ?it/s]"
      ]
     },
     "metadata": {},
     "output_type": "display_data"
    },
    {
     "data": {
      "application/vnd.jupyter.widget-view+json": {
       "model_id": "",
       "version_major": 2,
       "version_minor": 0
      },
      "text/plain": [
       "Windowing Splits:   0%|          | 0/3 [00:00<?, ?it/s]"
      ]
     },
     "metadata": {},
     "output_type": "display_data"
    },
    {
     "data": {
      "application/vnd.jupyter.widget-view+json": {
       "model_id": "",
       "version_major": 2,
       "version_minor": 0
      },
      "text/plain": [
       "Subject chunks:   0%|          | 0/1 [00:00<?, ?it/s]"
      ]
     },
     "metadata": {},
     "output_type": "display_data"
    },
    {
     "data": {
      "application/vnd.jupyter.widget-view+json": {
       "model_id": "",
       "version_major": 2,
       "version_minor": 0
      },
      "text/plain": [
       "Subject chunks:   0%|          | 0/1 [00:00<?, ?it/s]"
      ]
     },
     "metadata": {},
     "output_type": "display_data"
    },
    {
     "data": {
      "application/vnd.jupyter.widget-view+json": {
       "model_id": "",
       "version_major": 2,
       "version_minor": 0
      },
      "text/plain": [
       "Subject chunks:   0%|          | 0/1 [00:00<?, ?it/s]"
      ]
     },
     "metadata": {},
     "output_type": "display_data"
    },
    {
     "data": {
      "application/vnd.jupyter.widget-view+json": {
       "model_id": "",
       "version_major": 2,
       "version_minor": 0
      },
      "text/plain": [
       "Windowing Splits:   0%|          | 0/3 [00:00<?, ?it/s]"
      ]
     },
     "metadata": {},
     "output_type": "display_data"
    },
    {
     "data": {
      "application/vnd.jupyter.widget-view+json": {
       "model_id": "",
       "version_major": 2,
       "version_minor": 0
      },
      "text/plain": [
       "Subject chunks:   0%|          | 0/1 [00:00<?, ?it/s]"
      ]
     },
     "metadata": {},
     "output_type": "display_data"
    },
    {
     "data": {
      "application/vnd.jupyter.widget-view+json": {
       "model_id": "",
       "version_major": 2,
       "version_minor": 0
      },
      "text/plain": [
       "Subject chunks:   0%|          | 0/1 [00:00<?, ?it/s]"
      ]
     },
     "metadata": {},
     "output_type": "display_data"
    },
    {
     "data": {
      "application/vnd.jupyter.widget-view+json": {
       "model_id": "",
       "version_major": 2,
       "version_minor": 0
      },
      "text/plain": [
       "Subject chunks:   0%|          | 0/1 [00:00<?, ?it/s]"
      ]
     },
     "metadata": {},
     "output_type": "display_data"
    },
    {
     "data": {
      "application/vnd.jupyter.widget-view+json": {
       "model_id": "",
       "version_major": 2,
       "version_minor": 0
      },
      "text/plain": [
       "Windowing Splits:   0%|          | 0/3 [00:00<?, ?it/s]"
      ]
     },
     "metadata": {},
     "output_type": "display_data"
    },
    {
     "data": {
      "application/vnd.jupyter.widget-view+json": {
       "model_id": "",
       "version_major": 2,
       "version_minor": 0
      },
      "text/plain": [
       "Subject chunks:   0%|          | 0/1 [00:00<?, ?it/s]"
      ]
     },
     "metadata": {},
     "output_type": "display_data"
    },
    {
     "data": {
      "application/vnd.jupyter.widget-view+json": {
       "model_id": "",
       "version_major": 2,
       "version_minor": 0
      },
      "text/plain": [
       "Subject chunks:   0%|          | 0/1 [00:00<?, ?it/s]"
      ]
     },
     "metadata": {},
     "output_type": "display_data"
    },
    {
     "data": {
      "application/vnd.jupyter.widget-view+json": {
       "model_id": "",
       "version_major": 2,
       "version_minor": 0
      },
      "text/plain": [
       "Subject chunks:   0%|          | 0/1 [00:00<?, ?it/s]"
      ]
     },
     "metadata": {},
     "output_type": "display_data"
    },
    {
     "data": {
      "application/vnd.jupyter.widget-view+json": {
       "model_id": "",
       "version_major": 2,
       "version_minor": 0
      },
      "text/plain": [
       "Windowing Splits:   0%|          | 0/3 [00:00<?, ?it/s]"
      ]
     },
     "metadata": {},
     "output_type": "display_data"
    },
    {
     "data": {
      "application/vnd.jupyter.widget-view+json": {
       "model_id": "",
       "version_major": 2,
       "version_minor": 0
      },
      "text/plain": [
       "Subject chunks:   0%|          | 0/1 [00:00<?, ?it/s]"
      ]
     },
     "metadata": {},
     "output_type": "display_data"
    },
    {
     "data": {
      "application/vnd.jupyter.widget-view+json": {
       "model_id": "",
       "version_major": 2,
       "version_minor": 0
      },
      "text/plain": [
       "Subject chunks:   0%|          | 0/1 [00:00<?, ?it/s]"
      ]
     },
     "metadata": {},
     "output_type": "display_data"
    },
    {
     "data": {
      "application/vnd.jupyter.widget-view+json": {
       "model_id": "",
       "version_major": 2,
       "version_minor": 0
      },
      "text/plain": [
       "Subject chunks:   0%|          | 0/1 [00:00<?, ?it/s]"
      ]
     },
     "metadata": {},
     "output_type": "display_data"
    },
    {
     "data": {
      "application/vnd.jupyter.widget-view+json": {
       "model_id": "",
       "version_major": 2,
       "version_minor": 0
      },
      "text/plain": [
       "Windowing Splits:   0%|          | 0/3 [00:00<?, ?it/s]"
      ]
     },
     "metadata": {},
     "output_type": "display_data"
    },
    {
     "data": {
      "application/vnd.jupyter.widget-view+json": {
       "model_id": "",
       "version_major": 2,
       "version_minor": 0
      },
      "text/plain": [
       "Subject chunks:   0%|          | 0/1 [00:00<?, ?it/s]"
      ]
     },
     "metadata": {},
     "output_type": "display_data"
    },
    {
     "data": {
      "application/vnd.jupyter.widget-view+json": {
       "model_id": "",
       "version_major": 2,
       "version_minor": 0
      },
      "text/plain": [
       "Subject chunks:   0%|          | 0/1 [00:00<?, ?it/s]"
      ]
     },
     "metadata": {},
     "output_type": "display_data"
    },
    {
     "data": {
      "application/vnd.jupyter.widget-view+json": {
       "model_id": "",
       "version_major": 2,
       "version_minor": 0
      },
      "text/plain": [
       "Subject chunks:   0%|          | 0/1 [00:00<?, ?it/s]"
      ]
     },
     "metadata": {},
     "output_type": "display_data"
    },
    {
     "data": {
      "application/vnd.jupyter.widget-view+json": {
       "model_id": "",
       "version_major": 2,
       "version_minor": 0
      },
      "text/plain": [
       "Windowing Splits:   0%|          | 0/3 [00:00<?, ?it/s]"
      ]
     },
     "metadata": {},
     "output_type": "display_data"
    },
    {
     "data": {
      "application/vnd.jupyter.widget-view+json": {
       "model_id": "",
       "version_major": 2,
       "version_minor": 0
      },
      "text/plain": [
       "Subject chunks:   0%|          | 0/1 [00:00<?, ?it/s]"
      ]
     },
     "metadata": {},
     "output_type": "display_data"
    },
    {
     "data": {
      "application/vnd.jupyter.widget-view+json": {
       "model_id": "",
       "version_major": 2,
       "version_minor": 0
      },
      "text/plain": [
       "Subject chunks:   0%|          | 0/1 [00:00<?, ?it/s]"
      ]
     },
     "metadata": {},
     "output_type": "display_data"
    },
    {
     "data": {
      "application/vnd.jupyter.widget-view+json": {
       "model_id": "",
       "version_major": 2,
       "version_minor": 0
      },
      "text/plain": [
       "Subject chunks:   0%|          | 0/1 [00:00<?, ?it/s]"
      ]
     },
     "metadata": {},
     "output_type": "display_data"
    },
    {
     "data": {
      "application/vnd.jupyter.widget-view+json": {
       "model_id": "",
       "version_major": 2,
       "version_minor": 0
      },
      "text/plain": [
       "Windowing Splits:   0%|          | 0/3 [00:00<?, ?it/s]"
      ]
     },
     "metadata": {},
     "output_type": "display_data"
    },
    {
     "data": {
      "application/vnd.jupyter.widget-view+json": {
       "model_id": "",
       "version_major": 2,
       "version_minor": 0
      },
      "text/plain": [
       "Subject chunks:   0%|          | 0/1 [00:00<?, ?it/s]"
      ]
     },
     "metadata": {},
     "output_type": "display_data"
    },
    {
     "data": {
      "application/vnd.jupyter.widget-view+json": {
       "model_id": "",
       "version_major": 2,
       "version_minor": 0
      },
      "text/plain": [
       "Subject chunks:   0%|          | 0/1 [00:00<?, ?it/s]"
      ]
     },
     "metadata": {},
     "output_type": "display_data"
    },
    {
     "data": {
      "application/vnd.jupyter.widget-view+json": {
       "model_id": "",
       "version_major": 2,
       "version_minor": 0
      },
      "text/plain": [
       "Subject chunks:   0%|          | 0/1 [00:00<?, ?it/s]"
      ]
     },
     "metadata": {},
     "output_type": "display_data"
    }
   ],
   "source": [
    "fit_baseline_task_model(\n",
    "    task_df, 'label', ESD, n_samples=3, model_cls=model_cls, \n",
    "    hyperparameter_search_distributions=model_params,\n",
    ")"
   ]
  },
  {
   "cell_type": "code",
   "execution_count": null,
   "id": "93267500",
   "metadata": {},
   "outputs": [],
   "source": []
  }
 ],
 "metadata": {
  "kernelspec": {
   "display_name": "Python 3 (ipykernel)",
   "language": "python",
   "name": "python3"
  },
  "language_info": {
   "codemirror_mode": {
    "name": "ipython",
    "version": 3
   },
   "file_extension": ".py",
   "mimetype": "text/x-python",
   "name": "python",
   "nbconvert_exporter": "python",
   "pygments_lexer": "ipython3",
   "version": "3.10.9"
  }
 },
 "nbformat": 4,
 "nbformat_minor": 5
}
