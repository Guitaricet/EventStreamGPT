{
 "cells": [
  {
   "cell_type": "markdown",
   "id": "2280b12d",
   "metadata": {},
   "source": [
    "# Inspecting the Synthetic Dataset Produced"
   ]
  },
  {
   "cell_type": "code",
   "execution_count": null,
   "id": "f267b84d",
   "metadata": {},
   "outputs": [],
   "source": [
    "import sys\n",
    "\n",
    "sys.path.append(\"../\")"
   ]
  },
  {
   "cell_type": "code",
   "execution_count": null,
   "id": "452d06a0",
   "metadata": {},
   "outputs": [],
   "source": [
    "# Imports\n",
    "import os\n",
    "from pathlib import Path\n",
    "\n",
    "import polars as pl\n",
    "\n",
    "from EventStream.data.dataset_polars import Dataset"
   ]
  },
  {
   "cell_type": "code",
   "execution_count": null,
   "id": "f6b82b92",
   "metadata": {},
   "outputs": [],
   "source": [
    "dataset_dir = Path(os.getcwd()) / \"processed/sample\""
   ]
  },
  {
   "cell_type": "markdown",
   "id": "d3d87b85",
   "metadata": {},
   "source": [
    "## Loading the Dataset"
   ]
  },
  {
   "cell_type": "code",
   "execution_count": null,
   "id": "9da19ec5",
   "metadata": {},
   "outputs": [],
   "source": [
    "ESD = Dataset.load(dataset_dir)"
   ]
  },
  {
   "cell_type": "code",
   "execution_count": null,
   "id": "0f821491",
   "metadata": {},
   "outputs": [],
   "source": [
    "ESD.subjects_df.head(3)"
   ]
  },
  {
   "cell_type": "code",
   "execution_count": null,
   "id": "0099cbef",
   "metadata": {},
   "outputs": [],
   "source": [
    "ESD.events_df.head(3)"
   ]
  },
  {
   "cell_type": "code",
   "execution_count": null,
   "id": "48370fd5",
   "metadata": {},
   "outputs": [],
   "source": [
    "ESD.dynamic_measurements_df.filter(pl.col(\"event_id\") == 0)"
   ]
  },
  {
   "cell_type": "code",
   "execution_count": null,
   "id": "1316e5b9",
   "metadata": {},
   "outputs": [],
   "source": []
  }
 ],
 "metadata": {
  "kernelspec": {
   "display_name": "Python 3 (ipykernel)",
   "language": "python",
   "name": "python3"
  },
  "language_info": {
   "codemirror_mode": {
    "name": "ipython",
    "version": 3
   },
   "file_extension": ".py",
   "mimetype": "text/x-python",
   "name": "python",
   "nbconvert_exporter": "python",
   "pygments_lexer": "ipython3",
   "version": "3.10.9"
  }
 },
 "nbformat": 4,
 "nbformat_minor": 5
}
